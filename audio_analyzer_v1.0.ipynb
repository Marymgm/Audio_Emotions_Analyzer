{
 "cells": [
  {
   "cell_type": "code",
   "execution_count": 4,
   "metadata": {
    "tags": []
   },
   "outputs": [
    {
     "name": "stdout",
     "output_type": "stream",
     "text": [
      "Collecting ffmpeg-python\n",
      "  Downloading ffmpeg_python-0.2.0-py3-none-any.whl.metadata (1.7 kB)\n",
      "Collecting future (from ffmpeg-python)\n",
      "  Downloading future-1.0.0-py3-none-any.whl.metadata (4.0 kB)\n",
      "Downloading ffmpeg_python-0.2.0-py3-none-any.whl (25 kB)\n",
      "Downloading future-1.0.0-py3-none-any.whl (491 kB)\n",
      "Installing collected packages: future, ffmpeg-python\n",
      "\u001b[2K   \u001b[90m━━━━━━━━━━━━━━━━━━━━━━━━━━━━━━━━━━━━━━━━\u001b[0m \u001b[32m2/2\u001b[0m [ffmpeg-python]\n",
      "\u001b[1A\u001b[2KSuccessfully installed ffmpeg-python-0.2.0 future-1.0.0\n"
     ]
    }
   ],
   "source": [
    "#!pip install pyannote.audio huggingface_hub transformers librosa matplotlib seaborn torch numpy pandas soundfile tensorflow onnxruntime\n",
    "#pip install spacy --prefer-binary\n",
    "#pip install librosa pyAudioAnalysis scikit-learn numpy tf_keras keybert opensmile\n",
    "#!pip install ffmpeg-python"
   ]
  },
  {
   "cell_type": "code",
   "execution_count": 65,
   "metadata": {
    "tags": []
   },
   "outputs": [],
   "source": [
    "from pyannote.audio.pipelines import SpeakerDiarization\n",
    "from pyannote.audio import Model, Pipeline\n",
    "from huggingface_hub import login\n",
    "from IPython.display import Audio\n",
    "from transformers import WhisperProcessor, WhisperForConditionalGeneration, pipeline\n",
    "import librosa\n",
    "import matplotlib.pyplot as plt\n",
    "import seaborn as sns\n",
    "from collections import Counter\n",
    "import torch\n",
    "import numpy as np\n",
    "import pandas as pd\n",
    "import soundfile as sf\n",
    "import re\n",
    "import warnings\n",
    "import tf_keras as keras\n",
    "\n",
    "import pandas as pd\n",
    "import spacy\n",
    "from transformers import pipeline\n",
    "from keybert import KeyBERT\n",
    "\n",
    "import opensmile\n",
    "import os\n",
    "import librosa\n",
    "import soundfile as sf\n",
    "\n",
    "import librosa\n",
    "from pyAudioAnalysis import ShortTermFeatures\n",
    "from sklearn.ensemble import RandomForestClassifier\n",
    "from sklearn.model_selection import train_test_split\n",
    "from sklearn.metrics import classification_report\n",
    "\n",
    "import torch\n",
    "import torch.nn as nn\n",
    "from torch.utils.data import Dataset, DataLoader\n",
    "\n",
    "import matplotlib.pyplot as plt\n",
    "\n",
    "import concurrent.futures\n",
    "from tqdm import tqdm\n",
    "\n",
    "from torch.cuda.amp import GradScaler, autocast\n",
    "import torch\n",
    "import torchaudio\n",
    "\n",
    "from sklearn.utils.class_weight import compute_class_weight\n",
    "\n",
    "from torch.utils.data import Dataset, DataLoader\n",
    "import concurrent.futures\n",
    "from tqdm import tqdm\n",
    "from torch.cuda.amp import GradScaler, autocast\n",
    "\n",
    "import random\n",
    "import torchaudio.transforms as T\n",
    "from concurrent.futures import ThreadPoolExecutor, ProcessPoolExecutor\n",
    "import multiprocessing\n",
    "import time\n",
    "\n",
    "import matplotlib.pyplot as plt\n",
    "import seaborn as sns\n",
    "\n",
    "# Suppress all warnings\n",
    "warnings.filterwarnings(\"ignore\")\n",
    "\n",
    "# Suppress PyTorch warnings\n",
    "torch.set_printoptions(profile=\"default\")\n",
    "\n",
    "from glob import glob"
   ]
  },
  {
   "cell_type": "code",
   "execution_count": 3,
   "metadata": {},
   "outputs": [],
   "source": [
    "# Map emotion codes to labels\n",
    "emotion_map = {\n",
    "    '01': 'neutral',\n",
    "    '02': 'calm',\n",
    "    '03': 'happy',\n",
    "    '04': 'sad',\n",
    "    '05': 'angry',\n",
    "    '06': 'fearful',\n",
    "    '07': 'disgust',\n",
    "    '08': 'surprised'\n",
    "}"
   ]
  },
  {
   "cell_type": "code",
   "execution_count": 4,
   "metadata": {},
   "outputs": [],
   "source": [
    "label_map = {label: idx for idx, label in enumerate(sorted(set(emotion_map.values())))}\n",
    "idx_to_label = {v: k for k, v in label_map.items()}"
   ]
  },
  {
   "cell_type": "code",
   "execution_count": 5,
   "metadata": {},
   "outputs": [],
   "source": [
    "base_dir = r\"home/jupyter/FileLoading/audio_training\""
   ]
  },
  {
   "cell_type": "markdown",
   "metadata": {},
   "source": [
    "### Load Data"
   ]
  },
  {
   "cell_type": "markdown",
   "metadata": {},
   "source": [
    "#### Feature Extraction"
   ]
  },
  {
   "cell_type": "code",
   "execution_count": 6,
   "metadata": {},
   "outputs": [],
   "source": [
    "def get_all_ravdess_audio_paths(base_dir):\n",
    "    return glob(os.path.join(base_dir, '*.wav'))"
   ]
  },
  {
   "cell_type": "code",
   "execution_count": 7,
   "metadata": {},
   "outputs": [],
   "source": [
    "def extract_features(file_path):\n",
    "    y, sr = librosa.load(file_path, sr=None)\n",
    "\n",
    "    f0 = librosa.yin(y, fmin=50, fmax=300)\n",
    "    pitch_mean = float(np.mean(f0))\n",
    "    pitch_std = float(np.std(f0))\n",
    "\n",
    "    tempo, _ = librosa.beat.beat_track(y=y, sr=sr)\n",
    "    tempo = float(tempo)\n",
    "\n",
    "    st_feats, _ = ShortTermFeatures.feature_extraction(y, sr, 0.05 * sr, 0.025 * sr)\n",
    "    energy = float(np.mean(st_feats[1]))  # Energy is index 1\n",
    "\n",
    "    features = [pitch_mean, pitch_std, tempo, energy]\n",
    "\n",
    "    if not all(np.isfinite(features)):\n",
    "        raise ValueError(f\"Non-finite values in features from {file_path}\")\n",
    "\n",
    "    return features"
   ]
  },
  {
   "cell_type": "code",
   "execution_count": 8,
   "metadata": {},
   "outputs": [],
   "source": [
    "def extract_mfcc_torch(file_path, sample_rate=16000, n_mfcc=13, max_len=300):\n",
    "    waveform, sr = torchaudio.load(file_path)\n",
    "\n",
    "    # Convert stereo to mono if needed\n",
    "    if waveform.shape[0] > 1:\n",
    "        waveform = torch.mean(waveform, dim=0, keepdim=True)\n",
    "\n",
    "    if sr != sample_rate:\n",
    "        waveform = torchaudio.transforms.Resample(sr, sample_rate)(waveform)\n",
    "\n",
    "    mfcc = torchaudio.transforms.MFCC(\n",
    "        sample_rate=sample_rate,\n",
    "        n_mfcc=n_mfcc,\n",
    "        melkwargs={\"n_fft\": 400, \"hop_length\": 160, \"n_mels\": 40}\n",
    "    )(waveform).squeeze(0)\n",
    "    delta = torchaudio.functional.compute_deltas(mfcc)\n",
    "    delta2 = torchaudio.functional.compute_deltas(delta)\n",
    "    mfcc = torch.cat([mfcc, delta, delta2], dim=1)  # Final shape: (n_mfcc*3, time)\n",
    "\n",
    "    if mfcc.shape[1] < max_len:\n",
    "        pad = max_len - mfcc.shape[1]\n",
    "        mfcc = torch.nn.functional.pad(mfcc, (0, pad))\n",
    "    else:\n",
    "        mfcc = mfcc[:, :max_len]\n",
    "\n",
    "    return mfcc.T  # shape: (max_len, n_mfcc)"
   ]
  },
  {
   "cell_type": "markdown",
   "metadata": {},
   "source": [
    "#### Load DataSet"
   ]
  },
  {
   "cell_type": "code",
   "execution_count": 9,
   "metadata": {
    "tags": []
   },
   "outputs": [],
   "source": [
    "def process_path(path):\n",
    "    import os  # re-import if needed in subprocess\n",
    "    filename = os.path.basename(path)\n",
    "    parts = filename.split('-')\n",
    "    if len(parts) < 7:\n",
    "        return None\n",
    "\n",
    "    emotion_code = parts[2]\n",
    "    emotion_label = emotion_map.get(emotion_code)\n",
    "    if not emotion_label:\n",
    "        return None\n",
    "\n",
    "    features = extract_features(path)\n",
    "    if len(features) == 4:\n",
    "        return (path, emotion_label)\n",
    "    return None"
   ]
  },
  {
   "cell_type": "code",
   "execution_count": 10,
   "metadata": {},
   "outputs": [],
   "source": [
    "def load_ravdess_dataset(base_dir):\n",
    "    X, y = [], []\n",
    "    audio_paths = get_all_ravdess_audio_paths(base_dir)\n",
    "\n",
    "    print(\"🚀 Extracting features in parallel...\")\n",
    "    with ProcessPoolExecutor(max_workers=multiprocessing.cpu_count()) as executor:\n",
    "        results = list(tqdm(executor.map(process_path, audio_paths), total=len(audio_paths), desc=\"Processing RAVDESS\"))\n",
    "\n",
    "    valid_results = [res for res in results if res is not None]\n",
    "    if valid_results:\n",
    "        X, y = zip(*valid_results)\n",
    "    else:\n",
    "        X, y = [], []\n",
    "\n",
    "    return np.array(X), np.array(y)"
   ]
  },
  {
   "cell_type": "code",
   "execution_count": 11,
   "metadata": {
    "tags": []
   },
   "outputs": [],
   "source": [
    "def extract_example(file_path, label, augment=False, sample_rate=16000, max_len=300):\n",
    "    waveform, sr = torchaudio.load(file_path)\n",
    "    if waveform.shape[0] > 1:\n",
    "        waveform = torch.mean(waveform, dim=0, keepdim=True)\n",
    "\n",
    "    if augment:\n",
    "        waveform = augment_waveform(waveform, sr)\n",
    "\n",
    "    if sr != sample_rate:\n",
    "        waveform = torchaudio.transforms.Resample(sr, sample_rate)(waveform)\n",
    "\n",
    "    # Compute MFCC and deltas\n",
    "    mfcc = torchaudio.transforms.MFCC(\n",
    "        sample_rate=sample_rate,\n",
    "        n_mfcc=13,\n",
    "        melkwargs={\"n_fft\": 400, \"hop_length\": 160, \"n_mels\": 40}\n",
    "    )(waveform).squeeze(0)  # (13, T)\n",
    "\n",
    "    delta = torchaudio.functional.compute_deltas(mfcc)\n",
    "    delta2 = torchaudio.functional.compute_deltas(delta)\n",
    "    features = torch.cat([mfcc, delta, delta2], dim=0)  # (39, T)\n",
    "\n",
    "    # ✅ Pad/truncate **time dimension**\n",
    "    if features.shape[1] < max_len:\n",
    "        pad_len = max_len - features.shape[1]\n",
    "        features = torch.nn.functional.pad(features, (0, pad_len))  # pad last dim (time)\n",
    "    else:\n",
    "        features = features[:, :max_len]\n",
    "\n",
    "    features = features.T  # final shape: (max_len, 39)\n",
    "    y = label_map[label]\n",
    "    return torch.tensor(features, dtype=torch.float32), torch.tensor(y, dtype=torch.long)\n"
   ]
  },
  {
   "cell_type": "code",
   "execution_count": 12,
   "metadata": {
    "tags": []
   },
   "outputs": [],
   "source": [
    "def augment_waveform(waveform, sample_rate):\n",
    "    if random.random() < 0.2:\n",
    "        n_steps = random.uniform(-1, 1)  # softer pitch shift\n",
    "        waveform = torchaudio.functional.pitch_shift(waveform, sample_rate, n_steps)\n",
    "\n",
    "    if random.random() < 0.2:\n",
    "        noise = torch.randn_like(waveform) * 0.002  # less noise\n",
    "        waveform = waveform + noise\n",
    "\n",
    "    return waveform"
   ]
  },
  {
   "cell_type": "code",
   "execution_count": 13,
   "metadata": {
    "tags": []
   },
   "outputs": [],
   "source": [
    "class PreloadedEmotionDataset(Dataset):\n",
    "    def __init__(self, data):\n",
    "        self.data = [d for d in data if d is not None]\n",
    "    def __len__(self):\n",
    "        return len(self.data)\n",
    "    def __getitem__(self, idx):\n",
    "        return self.data[idx]"
   ]
  },
  {
   "cell_type": "code",
   "execution_count": 14,
   "metadata": {
    "tags": []
   },
   "outputs": [],
   "source": [
    "class EmotionLSTM(nn.Module):\n",
    "    def __init__(self, input_dim=39, hidden_dim=128, num_layers=2, num_classes=8, dropout=0.3):\n",
    "        super().__init__()\n",
    "        self.lstm = nn.LSTM(input_dim, hidden_dim, num_layers=num_layers, batch_first=True, dropout=dropout)\n",
    "        self.fc = nn.Sequential(\n",
    "            nn.Linear(hidden_dim, 64),\n",
    "            nn.ReLU(),\n",
    "            nn.Dropout(dropout),\n",
    "            nn.Linear(64, num_classes)\n",
    "        )\n",
    "    def forward(self, x):\n",
    "        _, (hn, _) = self.lstm(x)\n",
    "        return self.fc(hn[-1])"
   ]
  },
  {
   "cell_type": "code",
   "execution_count": 15,
   "metadata": {
    "tags": []
   },
   "outputs": [],
   "source": [
    "class EarlyStopper:\n",
    "    def __init__(self, patience=5):\n",
    "        self.best_loss = float('inf')\n",
    "        self.patience = patience\n",
    "        self.counter = 0\n",
    "    def check(self, val_loss):\n",
    "        if val_loss < self.best_loss:\n",
    "            self.best_loss = val_loss\n",
    "            self.counter = 0\n",
    "            return False\n",
    "        else:\n",
    "            self.counter += 1\n",
    "            return self.counter >= self.patience"
   ]
  },
  {
   "cell_type": "code",
   "execution_count": 16,
   "metadata": {
    "tags": []
   },
   "outputs": [],
   "source": [
    "scaler = GradScaler()\n",
    "\n",
    "def train_model(model, dataloader, criterion, optimizer, device):\n",
    "    model.train()\n",
    "    for batch_x, batch_y in dataloader:\n",
    "        batch_x, batch_y = batch_x.to(device), batch_y.to(device)\n",
    "        optimizer.zero_grad()\n",
    "\n",
    "        with autocast():\n",
    "            outputs = model(batch_x)\n",
    "            loss = criterion(outputs, batch_y)\n",
    "\n",
    "        scaler.scale(loss).backward()\n",
    "        scaler.step(optimizer)\n",
    "        scaler.update()"
   ]
  },
  {
   "cell_type": "code",
   "execution_count": 17,
   "metadata": {
    "tags": []
   },
   "outputs": [],
   "source": [
    "def evaluate_model(model, dataloader, device, criterion=None, return_loss=False):\n",
    "    model.eval()\n",
    "    all_preds = []\n",
    "    all_labels = []\n",
    "    total_loss = 0\n",
    "    count = 0\n",
    "\n",
    "    with torch.no_grad():\n",
    "        for batch_x, batch_y in dataloader:\n",
    "            batch_x, batch_y = batch_x.to(device), batch_y.to(device)\n",
    "            outputs = model(batch_x)\n",
    "\n",
    "            if return_loss and criterion is not None:\n",
    "                loss = criterion(outputs, batch_y)\n",
    "                total_loss += loss.item()\n",
    "                count += 1\n",
    "\n",
    "            preds = torch.argmax(outputs, dim=1).cpu().numpy()\n",
    "            all_preds.extend(preds)\n",
    "            all_labels.extend(batch_y.cpu().numpy())\n",
    "\n",
    "    labels = [idx_to_label[i] for i in all_labels]\n",
    "    preds = [idx_to_label[i] for i in all_preds]\n",
    "    print(classification_report(labels, preds))\n",
    "\n",
    "    correct = sum(p == t for p, t in zip(all_preds, all_labels))\n",
    "    accuracy = correct / len(all_labels)\n",
    "\n",
    "    if return_loss and count > 0:\n",
    "        return accuracy, total_loss / count\n",
    "    else:\n",
    "        return accuracy"
   ]
  },
  {
   "cell_type": "markdown",
   "metadata": {},
   "source": [
    "#### Simple LSTM"
   ]
  },
  {
   "cell_type": "code",
   "execution_count": 18,
   "metadata": {
    "tags": []
   },
   "outputs": [],
   "source": [
    "def run_experiment(hidden_dim, num_layers, dropout, lr, batch_size):\n",
    "    print(f\"\\n🚀 Training with hidden_dim={hidden_dim}, layers={num_layers}, dropout={dropout}, lr={lr}, batch={batch_size}\")\n",
    "\n",
    "    model = EmotionLSTM(input_dim=39, hidden_dim=hidden_dim, num_layers=num_layers, num_classes=8, dropout=dropout).to(device)\n",
    "    criterion = nn.CrossEntropyLoss(weight=class_weights)  # computed earlier\n",
    "    optimizer = torch.optim.Adam(model.parameters(), lr=lr)\n",
    "\n",
    "    train_loader = DataLoader(train_dataset, batch_size=batch_size, shuffle=True, num_workers=4, pin_memory=True)\n",
    "    test_loader = DataLoader(test_dataset, batch_size=batch_size, num_workers=4, pin_memory=True)\n",
    "\n",
    "    for epoch in range(10):  # Can increase if needed\n",
    "        print(f\"Epoch {epoch+1}/10\")\n",
    "        train_model(model, train_loader, criterion, optimizer, device)\n",
    "\n",
    "    print(\"\\n✅ Evaluation:\")\n",
    "    evaluate_model(model, test_loader, device)\n"
   ]
  },
  {
   "cell_type": "code",
   "execution_count": 19,
   "metadata": {
    "tags": []
   },
   "outputs": [
    {
     "name": "stdout",
     "output_type": "stream",
     "text": [
      "📂 Loading RAVDESS file paths...\n",
      "🚀 Extracting features in parallel...\n"
     ]
    },
    {
     "name": "stderr",
     "output_type": "stream",
     "text": [
      "Processing RAVDESS: 100%|██████████| 2392/2392 [04:57<00:00,  8.04it/s]\n"
     ]
    },
    {
     "name": "stdout",
     "output_type": "stream",
     "text": [
      "🔀 Splitting dataset in parallel...\n"
     ]
    },
    {
     "name": "stderr",
     "output_type": "stream",
     "text": [
      "Splitting dataset: 100%|██████████| 1/1 [00:00<00:00,  9.91task/s]"
     ]
    },
    {
     "name": "stdout",
     "output_type": "stream",
     "text": [
      "🧪 Extracting training features in parallel...\n"
     ]
    },
    {
     "name": "stderr",
     "output_type": "stream",
     "text": [
      "\n",
      "Training data: 100%|██████████| 1913/1913 [00:10<00:00, 174.07it/s]\n"
     ]
    },
    {
     "name": "stdout",
     "output_type": "stream",
     "text": [
      "🧪 Extracting test features in parallel...\n"
     ]
    },
    {
     "name": "stderr",
     "output_type": "stream",
     "text": [
      "Testing data: 100%|██████████| 479/479 [00:02<00:00, 173.95it/s]\n"
     ]
    },
    {
     "name": "stdout",
     "output_type": "stream",
     "text": [
      "📦 Preparing datasets and dataloaders...\n",
      "⚙️ Running hyperparameter experiments...\n",
      "\n",
      "🚀 Running experiment with: {'hidden_dim': 512, 'num_layers': 2, 'dropout': 0.3, 'lr': 0.0005, 'batch_size': 64}\n",
      "📅 Epoch 1/30\n",
      "📅 Epoch 2/30\n",
      "📅 Epoch 3/30\n",
      "📅 Epoch 4/30\n",
      "📅 Epoch 5/30\n",
      "📅 Epoch 6/30\n",
      "📅 Epoch 7/30\n",
      "📅 Epoch 8/30\n",
      "📅 Epoch 9/30\n",
      "📅 Epoch 10/30\n",
      "📅 Epoch 11/30\n",
      "📅 Epoch 12/30\n",
      "📅 Epoch 13/30\n",
      "📅 Epoch 14/30\n",
      "📅 Epoch 15/30\n",
      "📅 Epoch 16/30\n",
      "📅 Epoch 17/30\n",
      "📅 Epoch 18/30\n",
      "📅 Epoch 19/30\n",
      "📅 Epoch 20/30\n",
      "📅 Epoch 21/30\n",
      "📅 Epoch 22/30\n",
      "📅 Epoch 23/30\n",
      "📅 Epoch 24/30\n",
      "📅 Epoch 25/30\n",
      "📅 Epoch 26/30\n",
      "📅 Epoch 27/30\n",
      "📅 Epoch 28/30\n",
      "📅 Epoch 29/30\n",
      "📅 Epoch 30/30\n",
      "              precision    recall  f1-score   support\n",
      "\n",
      "       angry       0.90      0.82      0.86        56\n",
      "        calm       0.55      0.90      0.68        60\n",
      "     disgust       0.64      0.95      0.77        19\n",
      "     fearful       0.59      0.63      0.61        52\n",
      "       happy       0.71      0.64      0.67        61\n",
      "     neutral       0.38      0.69      0.49        26\n",
      "         sad       0.77      0.12      0.21        81\n",
      "   surprised       0.69      0.81      0.75        27\n",
      "\n",
      "    accuracy                           0.63       382\n",
      "   macro avg       0.65      0.70      0.63       382\n",
      "weighted avg       0.68      0.63      0.59       382\n",
      "\n",
      "📊 Validation Accuracy: 0.6283\n",
      "💾 New best model saved.\n",
      "\n",
      "🚀 Running experiment with: {'hidden_dim': 384, 'num_layers': 2, 'dropout': 0.5, 'lr': 0.0005, 'batch_size': 64}\n",
      "📅 Epoch 1/30\n",
      "📅 Epoch 2/30\n",
      "📅 Epoch 3/30\n",
      "📅 Epoch 4/30\n",
      "📅 Epoch 5/30\n",
      "📅 Epoch 6/30\n",
      "📅 Epoch 7/30\n",
      "📅 Epoch 8/30\n",
      "📅 Epoch 9/30\n",
      "📅 Epoch 10/30\n",
      "📅 Epoch 11/30\n",
      "📅 Epoch 12/30\n",
      "📅 Epoch 13/30\n",
      "📅 Epoch 14/30\n",
      "📅 Epoch 15/30\n",
      "📅 Epoch 16/30\n",
      "📅 Epoch 17/30\n",
      "📅 Epoch 18/30\n",
      "📅 Epoch 19/30\n",
      "📅 Epoch 20/30\n",
      "📅 Epoch 21/30\n",
      "📅 Epoch 22/30\n",
      "📅 Epoch 23/30\n",
      "📅 Epoch 24/30\n",
      "📅 Epoch 25/30\n",
      "📅 Epoch 26/30\n",
      "📅 Epoch 27/30\n",
      "📅 Epoch 28/30\n",
      "📅 Epoch 29/30\n",
      "📅 Epoch 30/30\n",
      "              precision    recall  f1-score   support\n",
      "\n",
      "       angry       0.96      0.88      0.92        56\n",
      "        calm       0.59      0.73      0.66        60\n",
      "     disgust       1.00      0.32      0.48        19\n",
      "     fearful       0.52      0.65      0.58        52\n",
      "       happy       0.61      0.56      0.58        61\n",
      "     neutral       0.37      0.62      0.46        26\n",
      "         sad       0.50      0.36      0.42        81\n",
      "   surprised       0.64      0.67      0.65        27\n",
      "\n",
      "    accuracy                           0.60       382\n",
      "   macro avg       0.65      0.60      0.59       382\n",
      "weighted avg       0.63      0.60      0.60       382\n",
      "\n",
      "📊 Validation Accuracy: 0.6021\n",
      "\n",
      "🚀 Running experiment with: {'hidden_dim': 512, 'num_layers': 2, 'dropout': 0.5, 'lr': 0.0005, 'batch_size': 64}\n",
      "📅 Epoch 1/30\n",
      "📅 Epoch 2/30\n",
      "📅 Epoch 3/30\n",
      "📅 Epoch 4/30\n",
      "📅 Epoch 5/30\n",
      "📅 Epoch 6/30\n",
      "📅 Epoch 7/30\n",
      "📅 Epoch 8/30\n",
      "📅 Epoch 9/30\n",
      "📅 Epoch 10/30\n",
      "📅 Epoch 11/30\n",
      "📅 Epoch 12/30\n",
      "📅 Epoch 13/30\n",
      "📅 Epoch 14/30\n",
      "📅 Epoch 15/30\n",
      "📅 Epoch 16/30\n",
      "📅 Epoch 17/30\n",
      "📅 Epoch 18/30\n",
      "📅 Epoch 19/30\n",
      "📅 Epoch 20/30\n",
      "📅 Epoch 21/30\n",
      "📅 Epoch 22/30\n",
      "📅 Epoch 23/30\n",
      "📅 Epoch 24/30\n",
      "📅 Epoch 25/30\n",
      "📅 Epoch 26/30\n",
      "📅 Epoch 27/30\n",
      "📅 Epoch 28/30\n",
      "📅 Epoch 29/30\n",
      "📅 Epoch 30/30\n",
      "              precision    recall  f1-score   support\n",
      "\n",
      "       angry       0.80      0.95      0.87        56\n",
      "        calm       0.78      0.65      0.71        60\n",
      "     disgust       0.44      0.74      0.55        19\n",
      "     fearful       0.71      0.62      0.66        52\n",
      "       happy       0.69      0.66      0.67        61\n",
      "     neutral       0.53      0.69      0.60        26\n",
      "         sad       0.56      0.43      0.49        81\n",
      "   surprised       0.60      0.78      0.68        27\n",
      "\n",
      "    accuracy                           0.66       382\n",
      "   macro avg       0.64      0.69      0.65       382\n",
      "weighted avg       0.67      0.66      0.66       382\n",
      "\n",
      "📊 Validation Accuracy: 0.6597\n",
      "💾 New best model saved.\n",
      "\n",
      "🚀 Running experiment with: {'hidden_dim': 384, 'num_layers': 2, 'dropout': 0.3, 'lr': 0.0005, 'batch_size': 64}\n",
      "📅 Epoch 1/30\n",
      "📅 Epoch 2/30\n",
      "📅 Epoch 3/30\n",
      "📅 Epoch 4/30\n",
      "📅 Epoch 5/30\n",
      "📅 Epoch 6/30\n",
      "📅 Epoch 7/30\n",
      "📅 Epoch 8/30\n",
      "📅 Epoch 9/30\n",
      "📅 Epoch 10/30\n",
      "📅 Epoch 11/30\n",
      "📅 Epoch 12/30\n",
      "📅 Epoch 13/30\n",
      "📅 Epoch 14/30\n",
      "📅 Epoch 15/30\n",
      "📅 Epoch 16/30\n",
      "📅 Epoch 17/30\n",
      "📅 Epoch 18/30\n",
      "📅 Epoch 19/30\n",
      "📅 Epoch 20/30\n",
      "📅 Epoch 21/30\n",
      "📅 Epoch 22/30\n",
      "📅 Epoch 23/30\n",
      "📅 Epoch 24/30\n",
      "📅 Epoch 25/30\n",
      "📅 Epoch 26/30\n",
      "📅 Epoch 27/30\n",
      "📅 Epoch 28/30\n",
      "📅 Epoch 29/30\n",
      "📅 Epoch 30/30\n",
      "              precision    recall  f1-score   support\n",
      "\n",
      "       angry       0.76      0.89      0.82        56\n",
      "        calm       0.62      0.75      0.68        60\n",
      "     disgust       0.64      0.84      0.73        19\n",
      "     fearful       0.70      0.54      0.61        52\n",
      "       happy       0.63      0.62      0.63        61\n",
      "     neutral       0.52      0.65      0.58        26\n",
      "         sad       0.51      0.35      0.41        81\n",
      "   surprised       0.61      0.70      0.66        27\n",
      "\n",
      "    accuracy                           0.63       382\n",
      "   macro avg       0.62      0.67      0.64       382\n",
      "weighted avg       0.62      0.63      0.62       382\n",
      "\n",
      "📊 Validation Accuracy: 0.6309\n"
     ]
    }
   ],
   "source": [
    "if __name__ == \"__main__\":\n",
    "    import concurrent.futures\n",
    "    from multiprocessing import cpu_count\n",
    "\n",
    "    base_dir = os.path.expanduser(\"~/FileLoading/audio_training\")\n",
    "\n",
    "    print(\"📂 Loading RAVDESS file paths...\")\n",
    "    file_paths, labels = load_ravdess_dataset(base_dir)\n",
    "\n",
    "    print(\"🔀 Splitting dataset in parallel...\")\n",
    "    def split_dataset():\n",
    "        return train_test_split(\n",
    "            file_paths, labels, test_size=0.2, random_state=42, stratify=labels\n",
    "        )\n",
    "\n",
    "    with concurrent.futures.ThreadPoolExecutor(max_workers=1) as executor:\n",
    "        future = executor.submit(split_dataset)\n",
    "        with tqdm(total=1, desc=\"Splitting dataset\", unit=\"task\") as pbar:\n",
    "            while not future.done():\n",
    "                time.sleep(0.1)\n",
    "            train_paths, test_paths, train_labels, test_labels = future.result()\n",
    "            pbar.update(1)\n",
    "\n",
    "    print(\"🧪 Extracting training features in parallel...\")\n",
    "    with concurrent.futures.ThreadPoolExecutor() as executor:\n",
    "        train_data = list(tqdm(\n",
    "            executor.map(lambda args: extract_example(*args), zip(train_paths, train_labels)),\n",
    "            total=len(train_paths),\n",
    "            desc=\"Training data\"\n",
    "        ))\n",
    "\n",
    "    print(\"🧪 Extracting test features in parallel...\")\n",
    "    with concurrent.futures.ThreadPoolExecutor() as executor:\n",
    "        test_data = list(tqdm(\n",
    "            executor.map(lambda args: extract_example(*args, augment=False), zip(test_paths, test_labels)),\n",
    "            total=len(test_paths),\n",
    "            desc=\"Testing data\"\n",
    "        ))\n",
    "\n",
    "    print(\"📦 Preparing datasets and dataloaders...\")\n",
    "    train_dataset = PreloadedEmotionDataset(train_data)\n",
    "    test_dataset = PreloadedEmotionDataset(test_data)\n",
    "\n",
    "    val_size = int(0.2 * len(train_dataset))\n",
    "    train_size = len(train_dataset) - val_size\n",
    "    train_dataset, val_dataset = torch.utils.data.random_split(train_dataset, [train_size, val_size])\n",
    "\n",
    "    device = torch.device(\"cuda\" if torch.cuda.is_available() else \"cpu\")\n",
    "\n",
    "    class_weights = compute_class_weight(\n",
    "        class_weight='balanced',\n",
    "        classes=np.unique(train_labels),\n",
    "        y=train_labels\n",
    "    )\n",
    "    class_weights = torch.tensor(class_weights, dtype=torch.float32).to(device)\n",
    "\n",
    "    print(\"⚙️ Running hyperparameter experiments...\")\n",
    "    param_sets = [\n",
    "        {\"hidden_dim\": 512, \"num_layers\": 2, \"dropout\": 0.3, \"lr\": 0.0005, \"batch_size\": 64},#Validation Accuracy: 0.6545 \n",
    "        {\"hidden_dim\": 384, \"num_layers\": 2, \"dropout\": 0.5, \"lr\": 0.0005, \"batch_size\": 64}, # 1st Validation Accuracy: 0.6545\n",
    "        {\"hidden_dim\": 512, \"num_layers\": 2, \"dropout\": 0.5, \"lr\": 0.0005, \"batch_size\": 64},#Validation Accuracy: 0.6361 \n",
    "        {\"hidden_dim\": 384, \"num_layers\": 2, \"dropout\": 0.3, \"lr\": 0.0005, \"batch_size\": 64},#Validation Accuracy: 0.6545 \n",
    "\n",
    "    ]\n",
    "\n",
    "    best_acc = 0.0\n",
    "    best_model_state = None\n",
    "    best_params = None\n",
    "\n",
    "    for params in param_sets:\n",
    "        print(f\"\\n🚀 Running experiment with: {params}\")\n",
    "\n",
    "        model_params = {\n",
    "            \"hidden_dim\": params[\"hidden_dim\"],\n",
    "            \"num_layers\": params[\"num_layers\"],\n",
    "            \"dropout\": params[\"dropout\"]\n",
    "        }\n",
    "\n",
    "        model = EmotionLSTM(input_dim=39, **model_params).to(device)\n",
    "        optimizer = torch.optim.Adam(model.parameters(), lr=params[\"lr\"])\n",
    "        criterion = nn.CrossEntropyLoss(weight=class_weights)\n",
    "\n",
    "        train_loader = DataLoader(train_dataset, batch_size=params[\"batch_size\"], shuffle=True, num_workers=16, pin_memory=True)\n",
    "        val_loader = DataLoader(val_dataset, batch_size=params[\"batch_size\"], num_workers=16, pin_memory=True)\n",
    "\n",
    "        for epoch in range(30):\n",
    "            print(f\"📅 Epoch {epoch+1}/30\")\n",
    "            train_model(model, train_loader, criterion, optimizer, device)\n",
    "\n",
    "        val_acc, _ = evaluate_model(model, val_loader, device, criterion=criterion, return_loss=True)\n",
    "        print(f\"📊 Validation Accuracy: {val_acc:.4f}\")\n",
    "\n",
    "        if val_acc > best_acc:\n",
    "            best_acc = val_acc\n",
    "            best_model_state = model.state_dict().copy()\n",
    "            best_params = params\n",
    "            torch.save({\n",
    "                \"model_state_dict\": best_model_state,\n",
    "                \"params\": best_params\n",
    "            }, \"emotion_lstm_best.pth\")\n",
    "            print(\"💾 New best model saved.\")\n"
   ]
  },
  {
   "cell_type": "markdown",
   "metadata": {},
   "source": [
    "### DEPLOYMENT"
   ]
  },
  {
   "cell_type": "code",
   "execution_count": null,
   "metadata": {
    "tags": []
   },
   "outputs": [],
   "source": [
    "#!pip install --force-reinstall moviepy\n",
    "#!pip install datasets"
   ]
  },
  {
   "cell_type": "markdown",
   "metadata": {},
   "source": [
    "### Diarization and Transcript"
   ]
  },
  {
   "cell_type": "code",
   "execution_count": 280,
   "metadata": {},
   "outputs": [],
   "source": [
    "from pyannote.audio import Pipeline\n",
    "from transformers import pipeline as hf_pipeline\n",
    "import torch\n",
    "import torchaudio\n",
    "import os\n",
    "import pandas as pd\n",
    "import ffmpeg\n",
    "import os\n",
    "from tqdm import tqdm\n",
    "from concurrent.futures import ThreadPoolExecutor\n",
    "import tempfile\n",
    "from datasets import Dataset\n",
    "from dotenv import load_dotenv"
   ]
  },
  {
   "cell_type": "code",
   "execution_count": null,
   "metadata": {},
   "outputs": [],
   "source": [
    "audio_path = os.path.expanduser(r\"/home/jupyter/FileLoading/pharmacy_audio.mp3\")\n",
    "#audio_path = os.path.expanduser(r\"/home/jupyter/FileLoading/insurance_audio.mp3\")\n",
    "#audio_path = os.path.expanduser(r\"/home/jupyter/FileLoading/loan_audio.mp3\")\n",
    "torchaudio.set_audio_backend(\"sox_io\")\n",
    "waveform, sample_rate = torchaudio.load(audio_path)\n",
    "load_dotenv()\n",
    "HUGGINGFACE_TOKEN = os.getenv(\"<token>\")"
   ]
  },
  {
   "cell_type": "code",
   "execution_count": 353,
   "metadata": {
    "tags": []
   },
   "outputs": [],
   "source": [
    "# 2. Resample to mono 16kHz\n",
    "if sample_rate != 16000 or waveform.shape[0] != 1:\n",
    "    waveform = torchaudio.functional.resample(waveform, sample_rate, 16000)\n",
    "    waveform = waveform.mean(dim=0, keepdim=True)\n",
    "    sample_rate = 16000"
   ]
  },
  {
   "cell_type": "code",
   "execution_count": 354,
   "metadata": {},
   "outputs": [],
   "source": [
    "# 3. Save to temp WAV for diarization\n",
    "with tempfile.NamedTemporaryFile(suffix=\".wav\", delete=False) as temp_wav:\n",
    "    torchaudio.save(temp_wav.name, waveform, sample_rate)\n",
    "    wav_path = temp_wav.name"
   ]
  },
  {
   "cell_type": "code",
   "execution_count": null,
   "metadata": {
    "tags": []
   },
   "outputs": [
    {
     "name": "stdout",
     "output_type": "stream",
     "text": [
      "🔍 Loading diarization pipeline...\n"
     ]
    },
    {
     "name": "stderr",
     "output_type": "stream",
     "text": [
      "Lightning automatically upgraded your loaded checkpoint from v1.5.4 to v2.5.2. To apply the upgrade to your files permanently, run `python -m pytorch_lightning.utilities.upgrade_checkpoint ../.cache/torch/pyannote/models--pyannote--segmentation/snapshots/c4c8ceafcbb3a7a280c2d357aee9fbc9b0be7f9b/pytorch_model.bin`\n"
     ]
    },
    {
     "name": "stdout",
     "output_type": "stream",
     "text": [
      "Model was trained with pyannote.audio 0.0.1, yours is 3.3.2. Bad things might happen unless you revert pyannote.audio to 0.x.\n",
      "Model was trained with torch 1.10.0+cu102, yours is 2.7.1+cu126. Bad things might happen unless you revert torch to 1.x.\n"
     ]
    }
   ],
   "source": [
    "from pyannote.audio import Pipeline\n",
    "HUGGINGFACE_TOKEN = \"<token>\"\n",
    "print(\"🔍 Loading diarization pipeline...\")\n",
    "pipeline = Pipeline.from_pretrained(\n",
    "    \"pyannote/speaker-diarization\",\n",
    "    use_auth_token=HUGGINGFACE_TOKEN\n",
    ")\n",
    "pipeline.to(torch.device(\"cuda\"))\n",
    "diarization = pipeline(wav_path)"
   ]
  },
  {
   "cell_type": "code",
   "execution_count": 356,
   "metadata": {
    "tags": []
   },
   "outputs": [
    {
     "name": "stdout",
     "output_type": "stream",
     "text": [
      "🧠 Loading Whisper LLM (large)...\n"
     ]
    },
    {
     "name": "stderr",
     "output_type": "stream",
     "text": [
      "Device set to use cuda:0\n"
     ]
    }
   ],
   "source": [
    "# 6. Load Whisper transcription model\n",
    "print(\"🧠 Loading Whisper LLM (large)...\")\n",
    "transcriber = hf_pipeline(\"automatic-speech-recognition\", model=\"openai/whisper-large-v3\", device=0)\n"
   ]
  },
  {
   "cell_type": "code",
   "execution_count": 357,
   "metadata": {
    "tags": []
   },
   "outputs": [],
   "source": [
    "# 7. Extract speaker segments\n",
    "def segment_audio(diarization, audio_path):\n",
    "    waveform, sample_rate = torchaudio.load(audio_path)\n",
    "    segments = []\n",
    "    for turn, _, speaker in diarization.itertracks(yield_label=True):\n",
    "        start = int(turn.start * sample_rate)\n",
    "        end = int(turn.end * sample_rate)\n",
    "        segments.append((speaker, turn.start, turn.end, waveform[:, start:end]))\n",
    "    return segments, sample_rate"
   ]
  },
  {
   "cell_type": "code",
   "execution_count": 358,
   "metadata": {
    "tags": []
   },
   "outputs": [
    {
     "name": "stderr",
     "output_type": "stream",
     "text": [
      "Device set to use cuda:0\n"
     ]
    }
   ],
   "source": [
    "from transformers import pipeline\n",
    "\n",
    "asr = pipeline(\n",
    "    \"automatic-speech-recognition\",\n",
    "    model=\"openai/whisper-large-v3\",\n",
    "    device=0,\n",
    "    return_timestamps=False,\n",
    "    generate_kwargs={\"language\": \"en\"}  # ✅ specify language here\n",
    ")"
   ]
  },
  {
   "cell_type": "code",
   "execution_count": 359,
   "metadata": {
    "tags": []
   },
   "outputs": [],
   "source": [
    "\n",
    "segments, sr = segment_audio(diarization, wav_path)\n",
    "\n",
    "# 8. Transcribe in parallel\n",
    "def transcribe_segment(segment):\n",
    "    speaker, start, end, audio = segment\n",
    "    audio = audio.squeeze().numpy()\n",
    "    result = asr({\"raw\": audio, \"sampling_rate\": 16000})\n",
    "    text = result[\"text\"].strip()\n",
    "    return {\"Speaker\": speaker, \"Timestamp\": f\"{start:.2f}s - {end:.2f}s\", \"Text\": text}"
   ]
  },
  {
   "cell_type": "code",
   "execution_count": 360,
   "metadata": {
    "tags": []
   },
   "outputs": [
    {
     "name": "stdout",
     "output_type": "stream",
     "text": [
      "✍️ Transcribing segments (parallelized)...\n"
     ]
    },
    {
     "name": "stderr",
     "output_type": "stream",
     "text": [
      "100%|██████████| 18/18 [00:24<00:00,  1.37s/it]\n"
     ]
    },
    {
     "data": {
      "text/html": [
       "<div>\n",
       "<style scoped>\n",
       "    .dataframe tbody tr th:only-of-type {\n",
       "        vertical-align: middle;\n",
       "    }\n",
       "\n",
       "    .dataframe tbody tr th {\n",
       "        vertical-align: top;\n",
       "    }\n",
       "\n",
       "    .dataframe thead th {\n",
       "        text-align: right;\n",
       "    }\n",
       "</style>\n",
       "<table border=\"1\" class=\"dataframe\">\n",
       "  <thead>\n",
       "    <tr style=\"text-align: right;\">\n",
       "      <th></th>\n",
       "      <th>Speaker</th>\n",
       "      <th>Timestamp</th>\n",
       "      <th>Text</th>\n",
       "    </tr>\n",
       "  </thead>\n",
       "  <tbody>\n",
       "    <tr>\n",
       "      <th>0</th>\n",
       "      <td>Customer</td>\n",
       "      <td>0.62s - 3.39s</td>\n",
       "      <td>Hi, thank you for calling Contoso Pharmacy. Wh...</td>\n",
       "    </tr>\n",
       "    <tr>\n",
       "      <th>1</th>\n",
       "      <td>Representative</td>\n",
       "      <td>4.54s - 16.28s</td>\n",
       "      <td>Good afternoon. My name is Mary. I'm calling b...</td>\n",
       "    </tr>\n",
       "    <tr>\n",
       "      <th>2</th>\n",
       "      <td>Customer</td>\n",
       "      <td>17.55s - 21.39s</td>\n",
       "      <td>I understand your frustration, Mary. Can you t...</td>\n",
       "    </tr>\n",
       "    <tr>\n",
       "      <th>3</th>\n",
       "      <td>Representative</td>\n",
       "      <td>22.49s - 27.30s</td>\n",
       "      <td>Yes, I'm trying to get a refill of my prescrip...</td>\n",
       "    </tr>\n",
       "    <tr>\n",
       "      <th>4</th>\n",
       "      <td>Customer</td>\n",
       "      <td>28.99s - 32.72s</td>\n",
       "      <td>Okay, certainly happy to check that for you. O...</td>\n",
       "    </tr>\n",
       "  </tbody>\n",
       "</table>\n",
       "</div>"
      ],
      "text/plain": [
       "          Speaker        Timestamp  \\\n",
       "0        Customer    0.62s - 3.39s   \n",
       "1  Representative   4.54s - 16.28s   \n",
       "2        Customer  17.55s - 21.39s   \n",
       "3  Representative  22.49s - 27.30s   \n",
       "4        Customer  28.99s - 32.72s   \n",
       "\n",
       "                                                Text  \n",
       "0  Hi, thank you for calling Contoso Pharmacy. Wh...  \n",
       "1  Good afternoon. My name is Mary. I'm calling b...  \n",
       "2  I understand your frustration, Mary. Can you t...  \n",
       "3  Yes, I'm trying to get a refill of my prescrip...  \n",
       "4  Okay, certainly happy to check that for you. O...  "
      ]
     },
     "execution_count": 360,
     "metadata": {},
     "output_type": "execute_result"
    }
   ],
   "source": [
    "print(\"✍️ Transcribing segments (parallelized)...\")\n",
    "with ThreadPoolExecutor() as executor:\n",
    "    results = list(tqdm(executor.map(transcribe_segment, segments), total=len(segments)))\n",
    "\n",
    "# 9. Convert to DataFrame\n",
    "df = pd.DataFrame(results, columns=[\"Speaker\", \"Timestamp\", \"Text\"])\n",
    "# Mapping Speaker Names\n",
    "speaker_mapping = {\n",
    "    \"SPEAKER_00\": \"Customer\",\n",
    "    \"SPEAKER_01\": \"Representative\"\n",
    "}\n",
    "# Apply Mapping\n",
    "df[\"Speaker\"] = df[\"Speaker\"].map(speaker_mapping)\n",
    "\n",
    "df.head()"
   ]
  },
  {
   "cell_type": "markdown",
   "metadata": {
    "tags": []
   },
   "source": [
    "### Sensitivity Analysis"
   ]
  },
  {
   "cell_type": "code",
   "execution_count": 361,
   "metadata": {
    "tags": []
   },
   "outputs": [
    {
     "name": "stderr",
     "output_type": "stream",
     "text": [
      "Some weights of the model checkpoint at cardiffnlp/twitter-roberta-base-sentiment-latest were not used when initializing RobertaForSequenceClassification: ['roberta.pooler.dense.bias', 'roberta.pooler.dense.weight']\n",
      "- This IS expected if you are initializing RobertaForSequenceClassification from the checkpoint of a model trained on another task or with another architecture (e.g. initializing a BertForSequenceClassification model from a BertForPreTraining model).\n",
      "- This IS NOT expected if you are initializing RobertaForSequenceClassification from the checkpoint of a model that you expect to be exactly identical (initializing a BertForSequenceClassification model from a BertForSequenceClassification model).\n",
      "Device set to use cuda:0\n"
     ]
    }
   ],
   "source": [
    "sentiment_pipeline = pipeline(\"sentiment-analysis\", model=\"cardiffnlp/twitter-roberta-base-sentiment-latest\")"
   ]
  },
  {
   "cell_type": "code",
   "execution_count": 362,
   "metadata": {
    "tags": []
   },
   "outputs": [
    {
     "data": {
      "text/html": [
       "<div>\n",
       "<style scoped>\n",
       "    .dataframe tbody tr th:only-of-type {\n",
       "        vertical-align: middle;\n",
       "    }\n",
       "\n",
       "    .dataframe tbody tr th {\n",
       "        vertical-align: top;\n",
       "    }\n",
       "\n",
       "    .dataframe thead th {\n",
       "        text-align: right;\n",
       "    }\n",
       "</style>\n",
       "<table border=\"1\" class=\"dataframe\">\n",
       "  <thead>\n",
       "    <tr style=\"text-align: right;\">\n",
       "      <th></th>\n",
       "      <th>Speaker</th>\n",
       "      <th>Timestamp</th>\n",
       "      <th>Text</th>\n",
       "      <th>Sentiment</th>\n",
       "    </tr>\n",
       "  </thead>\n",
       "  <tbody>\n",
       "    <tr>\n",
       "      <th>0</th>\n",
       "      <td>Customer</td>\n",
       "      <td>0.62s - 3.39s</td>\n",
       "      <td>Hi, thank you for calling Contoso Pharmacy. Wh...</td>\n",
       "      <td>positive</td>\n",
       "    </tr>\n",
       "    <tr>\n",
       "      <th>1</th>\n",
       "      <td>Representative</td>\n",
       "      <td>4.54s - 16.28s</td>\n",
       "      <td>Good afternoon. My name is Mary. I'm calling b...</td>\n",
       "      <td>neutral</td>\n",
       "    </tr>\n",
       "    <tr>\n",
       "      <th>2</th>\n",
       "      <td>Customer</td>\n",
       "      <td>17.55s - 21.39s</td>\n",
       "      <td>I understand your frustration, Mary. Can you t...</td>\n",
       "      <td>neutral</td>\n",
       "    </tr>\n",
       "    <tr>\n",
       "      <th>3</th>\n",
       "      <td>Representative</td>\n",
       "      <td>22.49s - 27.30s</td>\n",
       "      <td>Yes, I'm trying to get a refill of my prescrip...</td>\n",
       "      <td>neutral</td>\n",
       "    </tr>\n",
       "    <tr>\n",
       "      <th>4</th>\n",
       "      <td>Customer</td>\n",
       "      <td>28.99s - 32.72s</td>\n",
       "      <td>Okay, certainly happy to check that for you. O...</td>\n",
       "      <td>positive</td>\n",
       "    </tr>\n",
       "  </tbody>\n",
       "</table>\n",
       "</div>"
      ],
      "text/plain": [
       "          Speaker        Timestamp  \\\n",
       "0        Customer    0.62s - 3.39s   \n",
       "1  Representative   4.54s - 16.28s   \n",
       "2        Customer  17.55s - 21.39s   \n",
       "3  Representative  22.49s - 27.30s   \n",
       "4        Customer  28.99s - 32.72s   \n",
       "\n",
       "                                                Text Sentiment  \n",
       "0  Hi, thank you for calling Contoso Pharmacy. Wh...  positive  \n",
       "1  Good afternoon. My name is Mary. I'm calling b...   neutral  \n",
       "2  I understand your frustration, Mary. Can you t...   neutral  \n",
       "3  Yes, I'm trying to get a refill of my prescrip...   neutral  \n",
       "4  Okay, certainly happy to check that for you. O...  positive  "
      ]
     },
     "execution_count": 362,
     "metadata": {},
     "output_type": "execute_result"
    }
   ],
   "source": [
    "# Apply sentiment analysis\n",
    "df[\"Sentiment\"] = df[\"Text\"].apply(lambda x: sentiment_pipeline(x)[0]['label'])\n",
    "df.head()"
   ]
  },
  {
   "cell_type": "code",
   "execution_count": null,
   "metadata": {
    "tags": []
   },
   "outputs": [],
   "source": []
  },
  {
   "cell_type": "code",
   "execution_count": 363,
   "metadata": {
    "tags": []
   },
   "outputs": [],
   "source": [
    "# Count occurrences of each sentiment category\n",
    "sentiment_counts = df[\"Sentiment\"].value_counts()\n",
    "\n",
    "# Ensure \"positive\" and \"negative\" exist; otherwise, set them to 0\n",
    "sentiment_counts = sentiment_counts.reindex([\"positive\", \"negative\"], fill_value=0)\n"
   ]
  },
  {
   "cell_type": "markdown",
   "metadata": {},
   "source": [
    "### Emotions Integration"
   ]
  },
  {
   "cell_type": "code",
   "execution_count": 364,
   "metadata": {
    "tags": []
   },
   "outputs": [],
   "source": [
    "import torch.nn as nn\n",
    "\n",
    "# 🧠 Define the exact architecture used in training\n",
    "class EmotionLSTM(nn.Module):\n",
    "    def __init__(self, input_dim=39, hidden_dim=512, num_layers=2, num_classes=8, dropout=0.5):\n",
    "        super().__init__()\n",
    "        self.lstm = nn.LSTM(input_dim, hidden_dim, num_layers=num_layers, batch_first=True, dropout=dropout)\n",
    "        self.fc = nn.Sequential(\n",
    "            nn.Linear(hidden_dim, 64),\n",
    "            nn.ReLU(),\n",
    "            nn.Dropout(dropout),\n",
    "            nn.Linear(64, num_classes)\n",
    "        )\n",
    "\n",
    "    def forward(self, x):\n",
    "        _, (hn, _) = self.lstm(x)\n",
    "        return self.fc(hn[-1])  # shape: (batch, num_classes)\n",
    "\n"
   ]
  },
  {
   "cell_type": "code",
   "execution_count": 365,
   "metadata": {
    "tags": []
   },
   "outputs": [
    {
     "name": "stdout",
     "output_type": "stream",
     "text": [
      "✅ Emotion model loaded and ready.\n"
     ]
    }
   ],
   "source": [
    "# 🔄 Load checkpoint\n",
    "device = torch.device(\"cuda\" if torch.cuda.is_available() else \"cpu\")\n",
    "checkpoint = torch.load(\"emotion_lstm_best.pth\", map_location=device)\n",
    "params = checkpoint[\"params\"]\n",
    "\n",
    "# 📦 Rebuild the model using best hyperparameters\n",
    "model = EmotionLSTM(\n",
    "    input_dim=39,\n",
    "    hidden_dim=params[\"hidden_dim\"],\n",
    "    num_layers=params[\"num_layers\"],\n",
    "    dropout=params[\"dropout\"],\n",
    "    num_classes=8  # Based on your dataset\n",
    ").to(device)\n",
    "\n",
    "# 🧠 Load weights\n",
    "model.load_state_dict(checkpoint[\"model_state_dict\"])\n",
    "model.eval()\n",
    "\n",
    "print(\"✅ Emotion model loaded and ready.\")"
   ]
  },
  {
   "cell_type": "code",
   "execution_count": 366,
   "metadata": {
    "tags": []
   },
   "outputs": [],
   "source": [
    "import torchaudio.transforms as T\n",
    "\n",
    "mfcc_transform = T.MFCC(\n",
    "    sample_rate=16000,\n",
    "    n_mfcc=13,\n",
    "    melkwargs={\"n_fft\": 400, \"hop_length\": 160, \"n_mels\": 40}\n",
    ")\n",
    "\n",
    "def extract_features(audio_tensor):\n",
    "    device = torch.device(\"cuda\" if torch.cuda.is_available() else \"cpu\")\n",
    "    model.to(device)\n",
    "    model.eval()\n",
    "\n",
    "    # Move transform to same device as input audio\n",
    "    mfcc_transform = T.MFCC(\n",
    "        sample_rate=16000,\n",
    "        n_mfcc=13,\n",
    "        melkwargs={\"n_fft\": 400, \"hop_length\": 160, \"n_mels\": 40}\n",
    "    ).to(device)\n",
    "\n",
    "    with torch.no_grad():\n",
    "        mfcc = mfcc_transform(audio_tensor).transpose(1, 2)  # (1, time, 13)\n",
    "        delta = torchaudio.functional.compute_deltas(mfcc)\n",
    "        delta2 = torchaudio.functional.compute_deltas(delta)\n",
    "        features = torch.cat([mfcc, delta, delta2], dim=-1)  # shape: (1, time, 39)\n",
    "    return features"
   ]
  },
  {
   "cell_type": "code",
   "execution_count": 367,
   "metadata": {
    "tags": []
   },
   "outputs": [],
   "source": [
    "def transcribe_segment_with_emotion(segment):\n",
    "    speaker, start, end, audio = segment\n",
    "    speaker_mapping = {\n",
    "    \"SPEAKER_00\": \"Customer\",\n",
    "    \"SPEAKER_01\": \"Representative\"\n",
    "    }\n",
    "    speaker_name = speaker_mapping.get(speaker, speaker)\n",
    "    audio = audio.to(\"cuda\")\n",
    "    audio_np = audio.squeeze().cpu().numpy()\n",
    "    \n",
    "    # Transcription\n",
    "    result = asr({\"raw\": audio_np, \"sampling_rate\": 16000})\n",
    "    text = result[\"text\"].strip()\n",
    "    sentiment = sentiment_pipeline(text)[0][\"label\"].lower()\n",
    "\n",
    "    # Emotion prediction\n",
    "    features = extract_features(audio).to(device)\n",
    "    with torch.no_grad():\n",
    "        logits = model(features.to(device))\n",
    "        predicted_idx = torch.argmax(logits, dim=1).item()\n",
    "\n",
    "    emotion_label = idx_to_label[predicted_idx]\n",
    "    \n",
    "\n",
    "    return {\n",
    "        \"Speaker\": speaker_name,\n",
    "        \"Timestamp\": f\"{start:.2f}s - {end:.2f}s\",\n",
    "        \"Text\": text,\n",
    "        \"Sentiment\": sentiment,\n",
    "        \"Emotion\": emotion_label\n",
    "    }\n"
   ]
  },
  {
   "cell_type": "code",
   "execution_count": 368,
   "metadata": {
    "tags": []
   },
   "outputs": [],
   "source": [
    "#3. Emotion Prediction Function\n",
    "emotion_labels = [\"neutral\", \"calm\", \"happy\", \"sad\", \"angry\", \"fearful\", \"disgust\", \"surprised\"]\n",
    "label_to_idx = {label: i for i, label in enumerate(emotion_labels)}\n",
    "idx_to_label = {i: label for label, i in label_to_idx.items()}"
   ]
  },
  {
   "cell_type": "code",
   "execution_count": 369,
   "metadata": {
    "tags": []
   },
   "outputs": [
    {
     "name": "stdout",
     "output_type": "stream",
     "text": [
      "🧠 Running transcription + emotion inference...\n"
     ]
    },
    {
     "name": "stderr",
     "output_type": "stream",
     "text": [
      "100%|██████████| 18/18 [00:24<00:00,  1.38s/it]\n"
     ]
    }
   ],
   "source": [
    "print(\"🧠 Running transcription + emotion inference...\")\n",
    "with ThreadPoolExecutor() as executor:\n",
    "    results = list(tqdm(executor.map(transcribe_segment_with_emotion, segments), total=len(segments)))\n"
   ]
  },
  {
   "cell_type": "code",
   "execution_count": 370,
   "metadata": {},
   "outputs": [
    {
     "data": {
      "text/html": [
       "<div>\n",
       "<style scoped>\n",
       "    .dataframe tbody tr th:only-of-type {\n",
       "        vertical-align: middle;\n",
       "    }\n",
       "\n",
       "    .dataframe tbody tr th {\n",
       "        vertical-align: top;\n",
       "    }\n",
       "\n",
       "    .dataframe thead th {\n",
       "        text-align: right;\n",
       "    }\n",
       "</style>\n",
       "<table border=\"1\" class=\"dataframe\">\n",
       "  <thead>\n",
       "    <tr style=\"text-align: right;\">\n",
       "      <th></th>\n",
       "      <th>Speaker</th>\n",
       "      <th>Timestamp</th>\n",
       "      <th>Text</th>\n",
       "      <th>Sentiment</th>\n",
       "      <th>Sentiment Score</th>\n",
       "      <th>Exchange</th>\n",
       "      <th>Emotion</th>\n",
       "    </tr>\n",
       "  </thead>\n",
       "  <tbody>\n",
       "    <tr>\n",
       "      <th>0</th>\n",
       "      <td>Customer</td>\n",
       "      <td>0.62s - 3.39s</td>\n",
       "      <td>Hi, thank you for calling Contoso Pharmacy. Wh...</td>\n",
       "      <td>positive</td>\n",
       "      <td>NaN</td>\n",
       "      <td>NaN</td>\n",
       "      <td>neutral</td>\n",
       "    </tr>\n",
       "    <tr>\n",
       "      <th>1</th>\n",
       "      <td>Representative</td>\n",
       "      <td>4.54s - 16.28s</td>\n",
       "      <td>Good afternoon. My name is Mary. I'm calling b...</td>\n",
       "      <td>neutral</td>\n",
       "      <td>NaN</td>\n",
       "      <td>NaN</td>\n",
       "      <td>neutral</td>\n",
       "    </tr>\n",
       "    <tr>\n",
       "      <th>2</th>\n",
       "      <td>Customer</td>\n",
       "      <td>17.55s - 21.39s</td>\n",
       "      <td>I understand your frustration, Mary. Can you t...</td>\n",
       "      <td>neutral</td>\n",
       "      <td>NaN</td>\n",
       "      <td>NaN</td>\n",
       "      <td>neutral</td>\n",
       "    </tr>\n",
       "    <tr>\n",
       "      <th>3</th>\n",
       "      <td>Representative</td>\n",
       "      <td>22.49s - 27.30s</td>\n",
       "      <td>Yes, I'm trying to get a refill of my prescrip...</td>\n",
       "      <td>neutral</td>\n",
       "      <td>NaN</td>\n",
       "      <td>NaN</td>\n",
       "      <td>angry</td>\n",
       "    </tr>\n",
       "    <tr>\n",
       "      <th>4</th>\n",
       "      <td>Customer</td>\n",
       "      <td>28.99s - 32.72s</td>\n",
       "      <td>Okay, certainly happy to check that for you. O...</td>\n",
       "      <td>positive</td>\n",
       "      <td>NaN</td>\n",
       "      <td>NaN</td>\n",
       "      <td>neutral</td>\n",
       "    </tr>\n",
       "  </tbody>\n",
       "</table>\n",
       "</div>"
      ],
      "text/plain": [
       "          Speaker        Timestamp  \\\n",
       "0        Customer    0.62s - 3.39s   \n",
       "1  Representative   4.54s - 16.28s   \n",
       "2        Customer  17.55s - 21.39s   \n",
       "3  Representative  22.49s - 27.30s   \n",
       "4        Customer  28.99s - 32.72s   \n",
       "\n",
       "                                                Text Sentiment  \\\n",
       "0  Hi, thank you for calling Contoso Pharmacy. Wh...  positive   \n",
       "1  Good afternoon. My name is Mary. I'm calling b...   neutral   \n",
       "2  I understand your frustration, Mary. Can you t...   neutral   \n",
       "3  Yes, I'm trying to get a refill of my prescrip...   neutral   \n",
       "4  Okay, certainly happy to check that for you. O...  positive   \n",
       "\n",
       "   Sentiment Score  Exchange  Emotion  \n",
       "0              NaN       NaN  neutral  \n",
       "1              NaN       NaN  neutral  \n",
       "2              NaN       NaN  neutral  \n",
       "3              NaN       NaN    angry  \n",
       "4              NaN       NaN  neutral  "
      ]
     },
     "execution_count": 370,
     "metadata": {},
     "output_type": "execute_result"
    }
   ],
   "source": [
    "df = pd.DataFrame(results, columns=[\"Speaker\", \"Timestamp\", \"Text\", 'Sentiment',\"Sentiment Score\",\"Exchange\", \"Emotion\"])\n",
    "df.head()"
   ]
  },
  {
   "cell_type": "code",
   "execution_count": 371,
   "metadata": {
    "tags": []
   },
   "outputs": [],
   "source": [
    "# Map sentiment to numerical values\n",
    "sentiment_mapping = {\n",
    "    \"positive\": 1,\n",
    "    \"neutral\": 0,\n",
    "    \"negative\": -1\n",
    "}\n",
    "\n",
    "df[\"Sentiment Score\"] = df[\"Sentiment\"].map(sentiment_mapping)\n",
    "\n",
    "# Assign exchange numbers for X-axis\n",
    "df[\"Exchange\"] = range(1, len(df) + 1)"
   ]
  },
  {
   "cell_type": "code",
   "execution_count": 372,
   "metadata": {
    "tags": []
   },
   "outputs": [
    {
     "data": {
      "text/html": [
       "<div>\n",
       "<style scoped>\n",
       "    .dataframe tbody tr th:only-of-type {\n",
       "        vertical-align: middle;\n",
       "    }\n",
       "\n",
       "    .dataframe tbody tr th {\n",
       "        vertical-align: top;\n",
       "    }\n",
       "\n",
       "    .dataframe thead th {\n",
       "        text-align: right;\n",
       "    }\n",
       "</style>\n",
       "<table border=\"1\" class=\"dataframe\">\n",
       "  <thead>\n",
       "    <tr style=\"text-align: right;\">\n",
       "      <th></th>\n",
       "      <th>Speaker</th>\n",
       "      <th>Timestamp</th>\n",
       "      <th>Text</th>\n",
       "      <th>Sentiment</th>\n",
       "      <th>Sentiment Score</th>\n",
       "      <th>Exchange</th>\n",
       "      <th>Emotion</th>\n",
       "    </tr>\n",
       "  </thead>\n",
       "  <tbody>\n",
       "    <tr>\n",
       "      <th>3</th>\n",
       "      <td>Representative</td>\n",
       "      <td>22.49s - 27.30s</td>\n",
       "      <td>Yes, I'm trying to get a refill of my prescrip...</td>\n",
       "      <td>neutral</td>\n",
       "      <td>0</td>\n",
       "      <td>4</td>\n",
       "      <td>angry</td>\n",
       "    </tr>\n",
       "  </tbody>\n",
       "</table>\n",
       "</div>"
      ],
      "text/plain": [
       "          Speaker        Timestamp  \\\n",
       "3  Representative  22.49s - 27.30s   \n",
       "\n",
       "                                                Text Sentiment  \\\n",
       "3  Yes, I'm trying to get a refill of my prescrip...   neutral   \n",
       "\n",
       "   Sentiment Score  Exchange Emotion  \n",
       "3                0         4   angry  "
      ]
     },
     "execution_count": 372,
     "metadata": {},
     "output_type": "execute_result"
    }
   ],
   "source": [
    "df[~(df['Emotion']=='happy') & ~(df['Emotion']=='neutral')]"
   ]
  },
  {
   "cell_type": "markdown",
   "metadata": {},
   "source": [
    "#### Visualization"
   ]
  },
  {
   "cell_type": "code",
   "execution_count": 373,
   "metadata": {
    "tags": []
   },
   "outputs": [],
   "source": [
    "def extract_midpoint(timestamp):\n",
    "    match = re.match(r\"(\\d+\\.?\\d*)s\\s*-\\s*(\\d+\\.?\\d*)s\", timestamp)\n",
    "    if match:\n",
    "        start, end = map(float, match.groups())\n",
    "        return (start + end) / 2\n",
    "    return None\n",
    "\n",
    "df[\"Time\"] = df[\"Timestamp\"].apply(extract_midpoint)"
   ]
  },
  {
   "cell_type": "code",
   "execution_count": 374,
   "metadata": {
    "tags": []
   },
   "outputs": [],
   "source": [
    "emotion_styles = {\n",
    "    \"neutral\":   {\"Customer\": {\"symbol\": \"○\", \"color\": \"gray\"},         \"Representative\": {\"symbol\": \"●\", \"color\": \"gray\"}},\n",
    "    \"calm\": {\"Customer\": {\"symbol\": \"☁\",  \"color\": \"lightblue\"}, \"Representative\": {\"symbol\": \"☀\",  \"color\": \"lightblue\"}},\n",
    "    \"happy\":     {\"Customer\": {\"symbol\": \"☺\", \"color\": \"gold\"},         \"Representative\": {\"symbol\": \"☻\", \"color\": \"gold\"}},\n",
    "    \"sad\":       {\"Customer\": {\"symbol\": \"😞\", \"color\": \"steelblue\"},   \"Representative\": {\"symbol\": \"☹\", \"color\": \"steelblue\"}},\n",
    "    \"angry\":     {\"Customer\": {\"symbol\": \"😠\", \"color\": \"red\"},          \"Representative\": {\"symbol\": \"😡\", \"color\": \"red\"}},\n",
    "    \"fearful\":   {\"Customer\": {\"symbol\": \"⚠️\", \"color\": \"purple\"},       \"Representative\": {\"symbol\": \"!\", \"color\": \"purple\"}},\n",
    "    \"disgust\":   {\"Customer\": {\"symbol\": \"😷\", \"color\": \"green\"},        \"Representative\": {\"symbol\": \"☠️\", \"color\": \"green\"}},\n",
    "    \"surprised\": {\"Customer\": {\"symbol\": \"😲\", \"color\": \"turquoise\"},    \"Representative\": {\"symbol\": \"😧\", \"color\": \"turquoise\"}}\n",
    "}\n",
    "speaker_colors = {\n",
    "    \"Customer\": \"blue\",\n",
    "    \"Representative\": \"green\"\n",
    "}\n"
   ]
  },
  {
   "cell_type": "code",
   "execution_count": 377,
   "metadata": {
    "tags": []
   },
   "outputs": [
    {
     "data": {
      "application/javascript": "/* Put everything inside the global mpl namespace */\n/* global mpl */\nwindow.mpl = {};\n\nmpl.get_websocket_type = function () {\n    if (typeof WebSocket !== 'undefined') {\n        return WebSocket;\n    } else if (typeof MozWebSocket !== 'undefined') {\n        return MozWebSocket;\n    } else {\n        alert(\n            'Your browser does not have WebSocket support. ' +\n                'Please try Chrome, Safari or Firefox ≥ 6. ' +\n                'Firefox 4 and 5 are also supported but you ' +\n                'have to enable WebSockets in about:config.'\n        );\n    }\n};\n\nmpl.figure = function (figure_id, websocket, ondownload, parent_element) {\n    this.id = figure_id;\n\n    this.ws = websocket;\n\n    this.supports_binary = this.ws.binaryType !== undefined;\n\n    if (!this.supports_binary) {\n        var warnings = document.getElementById('mpl-warnings');\n        if (warnings) {\n            warnings.style.display = 'block';\n            warnings.textContent =\n                'This browser does not support binary websocket messages. ' +\n                'Performance may be slow.';\n        }\n    }\n\n    this.imageObj = new Image();\n\n    this.context = undefined;\n    this.message = undefined;\n    this.canvas = undefined;\n    this.rubberband_canvas = undefined;\n    this.rubberband_context = undefined;\n    this.format_dropdown = undefined;\n\n    this.image_mode = 'full';\n\n    this.root = document.createElement('div');\n    this.root.setAttribute('style', 'display: inline-block');\n    this._root_extra_style(this.root);\n\n    parent_element.appendChild(this.root);\n\n    this._init_header(this);\n    this._init_canvas(this);\n    this._init_toolbar(this);\n\n    var fig = this;\n\n    this.waiting = false;\n\n    this.ws.onopen = function () {\n        fig.send_message('supports_binary', { value: fig.supports_binary });\n        fig.send_message('send_image_mode', {});\n        if (fig.ratio !== 1) {\n            fig.send_message('set_device_pixel_ratio', {\n                device_pixel_ratio: fig.ratio,\n            });\n        }\n        fig.send_message('refresh', {});\n    };\n\n    this.imageObj.onload = function () {\n        if (fig.image_mode === 'full') {\n            // Full images could contain transparency (where diff images\n            // almost always do), so we need to clear the canvas so that\n            // there is no ghosting.\n            fig.context.clearRect(0, 0, fig.canvas.width, fig.canvas.height);\n        }\n        fig.context.drawImage(fig.imageObj, 0, 0);\n    };\n\n    this.imageObj.onunload = function () {\n        fig.ws.close();\n    };\n\n    this.ws.onmessage = this._make_on_message_function(this);\n\n    this.ondownload = ondownload;\n};\n\nmpl.figure.prototype._init_header = function () {\n    var titlebar = document.createElement('div');\n    titlebar.classList =\n        'ui-dialog-titlebar ui-widget-header ui-corner-all ui-helper-clearfix';\n    var titletext = document.createElement('div');\n    titletext.classList = 'ui-dialog-title';\n    titletext.setAttribute(\n        'style',\n        'width: 100%; text-align: center; padding: 3px;'\n    );\n    titlebar.appendChild(titletext);\n    this.root.appendChild(titlebar);\n    this.header = titletext;\n};\n\nmpl.figure.prototype._canvas_extra_style = function (_canvas_div) {};\n\nmpl.figure.prototype._root_extra_style = function (_canvas_div) {};\n\nmpl.figure.prototype._init_canvas = function () {\n    var fig = this;\n\n    var canvas_div = (this.canvas_div = document.createElement('div'));\n    canvas_div.setAttribute('tabindex', '0');\n    canvas_div.setAttribute(\n        'style',\n        'border: 1px solid #ddd;' +\n            'box-sizing: content-box;' +\n            'clear: both;' +\n            'min-height: 1px;' +\n            'min-width: 1px;' +\n            'outline: 0;' +\n            'overflow: hidden;' +\n            'position: relative;' +\n            'resize: both;' +\n            'z-index: 2;'\n    );\n\n    function on_keyboard_event_closure(name) {\n        return function (event) {\n            return fig.key_event(event, name);\n        };\n    }\n\n    canvas_div.addEventListener(\n        'keydown',\n        on_keyboard_event_closure('key_press')\n    );\n    canvas_div.addEventListener(\n        'keyup',\n        on_keyboard_event_closure('key_release')\n    );\n\n    this._canvas_extra_style(canvas_div);\n    this.root.appendChild(canvas_div);\n\n    var canvas = (this.canvas = document.createElement('canvas'));\n    canvas.classList.add('mpl-canvas');\n    canvas.setAttribute(\n        'style',\n        'box-sizing: content-box;' +\n            'pointer-events: none;' +\n            'position: relative;' +\n            'z-index: 0;'\n    );\n\n    this.context = canvas.getContext('2d');\n\n    var backingStore =\n        this.context.backingStorePixelRatio ||\n        this.context.webkitBackingStorePixelRatio ||\n        this.context.mozBackingStorePixelRatio ||\n        this.context.msBackingStorePixelRatio ||\n        this.context.oBackingStorePixelRatio ||\n        this.context.backingStorePixelRatio ||\n        1;\n\n    this.ratio = (window.devicePixelRatio || 1) / backingStore;\n\n    var rubberband_canvas = (this.rubberband_canvas = document.createElement(\n        'canvas'\n    ));\n    rubberband_canvas.setAttribute(\n        'style',\n        'box-sizing: content-box;' +\n            'left: 0;' +\n            'pointer-events: none;' +\n            'position: absolute;' +\n            'top: 0;' +\n            'z-index: 1;'\n    );\n\n    // Apply a ponyfill if ResizeObserver is not implemented by browser.\n    if (this.ResizeObserver === undefined) {\n        if (window.ResizeObserver !== undefined) {\n            this.ResizeObserver = window.ResizeObserver;\n        } else {\n            var obs = _JSXTOOLS_RESIZE_OBSERVER({});\n            this.ResizeObserver = obs.ResizeObserver;\n        }\n    }\n\n    this.resizeObserverInstance = new this.ResizeObserver(function (entries) {\n        // There's no need to resize if the WebSocket is not connected:\n        // - If it is still connecting, then we will get an initial resize from\n        //   Python once it connects.\n        // - If it has disconnected, then resizing will clear the canvas and\n        //   never get anything back to refill it, so better to not resize and\n        //   keep something visible.\n        if (fig.ws.readyState != 1) {\n            return;\n        }\n        var nentries = entries.length;\n        for (var i = 0; i < nentries; i++) {\n            var entry = entries[i];\n            var width, height;\n            if (entry.contentBoxSize) {\n                if (entry.contentBoxSize instanceof Array) {\n                    // Chrome 84 implements new version of spec.\n                    width = entry.contentBoxSize[0].inlineSize;\n                    height = entry.contentBoxSize[0].blockSize;\n                } else {\n                    // Firefox implements old version of spec.\n                    width = entry.contentBoxSize.inlineSize;\n                    height = entry.contentBoxSize.blockSize;\n                }\n            } else {\n                // Chrome <84 implements even older version of spec.\n                width = entry.contentRect.width;\n                height = entry.contentRect.height;\n            }\n\n            // Keep the size of the canvas and rubber band canvas in sync with\n            // the canvas container.\n            if (entry.devicePixelContentBoxSize) {\n                // Chrome 84 implements new version of spec.\n                canvas.setAttribute(\n                    'width',\n                    entry.devicePixelContentBoxSize[0].inlineSize\n                );\n                canvas.setAttribute(\n                    'height',\n                    entry.devicePixelContentBoxSize[0].blockSize\n                );\n            } else {\n                canvas.setAttribute('width', width * fig.ratio);\n                canvas.setAttribute('height', height * fig.ratio);\n            }\n            /* This rescales the canvas back to display pixels, so that it\n             * appears correct on HiDPI screens. */\n            canvas.style.width = width + 'px';\n            canvas.style.height = height + 'px';\n\n            rubberband_canvas.setAttribute('width', width);\n            rubberband_canvas.setAttribute('height', height);\n\n            // And update the size in Python. We ignore the initial 0/0 size\n            // that occurs as the element is placed into the DOM, which should\n            // otherwise not happen due to the minimum size styling.\n            if (width != 0 && height != 0) {\n                fig.request_resize(width, height);\n            }\n        }\n    });\n    this.resizeObserverInstance.observe(canvas_div);\n\n    function on_mouse_event_closure(name) {\n        /* User Agent sniffing is bad, but WebKit is busted:\n         * https://bugs.webkit.org/show_bug.cgi?id=144526\n         * https://bugs.webkit.org/show_bug.cgi?id=181818\n         * The worst that happens here is that they get an extra browser\n         * selection when dragging, if this check fails to catch them.\n         */\n        var UA = navigator.userAgent;\n        var isWebKit = /AppleWebKit/.test(UA) && !/Chrome/.test(UA);\n        if(isWebKit) {\n            return function (event) {\n                /* This prevents the web browser from automatically changing to\n                 * the text insertion cursor when the button is pressed. We\n                 * want to control all of the cursor setting manually through\n                 * the 'cursor' event from matplotlib */\n                event.preventDefault()\n                return fig.mouse_event(event, name);\n            };\n        } else {\n            return function (event) {\n                return fig.mouse_event(event, name);\n            };\n        }\n    }\n\n    canvas_div.addEventListener(\n        'mousedown',\n        on_mouse_event_closure('button_press')\n    );\n    canvas_div.addEventListener(\n        'mouseup',\n        on_mouse_event_closure('button_release')\n    );\n    canvas_div.addEventListener(\n        'dblclick',\n        on_mouse_event_closure('dblclick')\n    );\n    // Throttle sequential mouse events to 1 every 20ms.\n    canvas_div.addEventListener(\n        'mousemove',\n        on_mouse_event_closure('motion_notify')\n    );\n\n    canvas_div.addEventListener(\n        'mouseenter',\n        on_mouse_event_closure('figure_enter')\n    );\n    canvas_div.addEventListener(\n        'mouseleave',\n        on_mouse_event_closure('figure_leave')\n    );\n\n    canvas_div.addEventListener('wheel', function (event) {\n        if (event.deltaY < 0) {\n            event.step = 1;\n        } else {\n            event.step = -1;\n        }\n        on_mouse_event_closure('scroll')(event);\n    });\n\n    canvas_div.appendChild(canvas);\n    canvas_div.appendChild(rubberband_canvas);\n\n    this.rubberband_context = rubberband_canvas.getContext('2d');\n    this.rubberband_context.strokeStyle = '#000000';\n\n    this._resize_canvas = function (width, height, forward) {\n        if (forward) {\n            canvas_div.style.width = width + 'px';\n            canvas_div.style.height = height + 'px';\n        }\n    };\n\n    // Disable right mouse context menu.\n    canvas_div.addEventListener('contextmenu', function (_e) {\n        event.preventDefault();\n        return false;\n    });\n\n    function set_focus() {\n        canvas.focus();\n        canvas_div.focus();\n    }\n\n    window.setTimeout(set_focus, 100);\n};\n\nmpl.figure.prototype._init_toolbar = function () {\n    var fig = this;\n\n    var toolbar = document.createElement('div');\n    toolbar.classList = 'mpl-toolbar';\n    this.root.appendChild(toolbar);\n\n    function on_click_closure(name) {\n        return function (_event) {\n            return fig.toolbar_button_onclick(name);\n        };\n    }\n\n    function on_mouseover_closure(tooltip) {\n        return function (event) {\n            if (!event.currentTarget.disabled) {\n                return fig.toolbar_button_onmouseover(tooltip);\n            }\n        };\n    }\n\n    fig.buttons = {};\n    var buttonGroup = document.createElement('div');\n    buttonGroup.classList = 'mpl-button-group';\n    for (var toolbar_ind in mpl.toolbar_items) {\n        var name = mpl.toolbar_items[toolbar_ind][0];\n        var tooltip = mpl.toolbar_items[toolbar_ind][1];\n        var image = mpl.toolbar_items[toolbar_ind][2];\n        var method_name = mpl.toolbar_items[toolbar_ind][3];\n\n        if (!name) {\n            /* Instead of a spacer, we start a new button group. */\n            if (buttonGroup.hasChildNodes()) {\n                toolbar.appendChild(buttonGroup);\n            }\n            buttonGroup = document.createElement('div');\n            buttonGroup.classList = 'mpl-button-group';\n            continue;\n        }\n\n        var button = (fig.buttons[name] = document.createElement('button'));\n        button.classList = 'mpl-widget';\n        button.setAttribute('role', 'button');\n        button.setAttribute('aria-disabled', 'false');\n        button.addEventListener('click', on_click_closure(method_name));\n        button.addEventListener('mouseover', on_mouseover_closure(tooltip));\n\n        var icon_img = document.createElement('img');\n        icon_img.src = '_images/' + image + '.png';\n        icon_img.srcset = '_images/' + image + '_large.png 2x';\n        icon_img.alt = tooltip;\n        button.appendChild(icon_img);\n\n        buttonGroup.appendChild(button);\n    }\n\n    if (buttonGroup.hasChildNodes()) {\n        toolbar.appendChild(buttonGroup);\n    }\n\n    var fmt_picker = document.createElement('select');\n    fmt_picker.classList = 'mpl-widget';\n    toolbar.appendChild(fmt_picker);\n    this.format_dropdown = fmt_picker;\n\n    for (var ind in mpl.extensions) {\n        var fmt = mpl.extensions[ind];\n        var option = document.createElement('option');\n        option.selected = fmt === mpl.default_extension;\n        option.innerHTML = fmt;\n        fmt_picker.appendChild(option);\n    }\n\n    var status_bar = document.createElement('span');\n    status_bar.classList = 'mpl-message';\n    toolbar.appendChild(status_bar);\n    this.message = status_bar;\n};\n\nmpl.figure.prototype.request_resize = function (x_pixels, y_pixels) {\n    // Request matplotlib to resize the figure. Matplotlib will then trigger a resize in the client,\n    // which will in turn request a refresh of the image.\n    this.send_message('resize', { width: x_pixels, height: y_pixels });\n};\n\nmpl.figure.prototype.send_message = function (type, properties) {\n    properties['type'] = type;\n    properties['figure_id'] = this.id;\n    this.ws.send(JSON.stringify(properties));\n};\n\nmpl.figure.prototype.send_draw_message = function () {\n    if (!this.waiting) {\n        this.waiting = true;\n        this.ws.send(JSON.stringify({ type: 'draw', figure_id: this.id }));\n    }\n};\n\nmpl.figure.prototype.handle_save = function (fig, _msg) {\n    var format_dropdown = fig.format_dropdown;\n    var format = format_dropdown.options[format_dropdown.selectedIndex].value;\n    fig.ondownload(fig, format);\n};\n\nmpl.figure.prototype.handle_resize = function (fig, msg) {\n    var size = msg['size'];\n    if (size[0] !== fig.canvas.width || size[1] !== fig.canvas.height) {\n        fig._resize_canvas(size[0], size[1], msg['forward']);\n        fig.send_message('refresh', {});\n    }\n};\n\nmpl.figure.prototype.handle_rubberband = function (fig, msg) {\n    var x0 = msg['x0'] / fig.ratio;\n    var y0 = (fig.canvas.height - msg['y0']) / fig.ratio;\n    var x1 = msg['x1'] / fig.ratio;\n    var y1 = (fig.canvas.height - msg['y1']) / fig.ratio;\n    x0 = Math.floor(x0) + 0.5;\n    y0 = Math.floor(y0) + 0.5;\n    x1 = Math.floor(x1) + 0.5;\n    y1 = Math.floor(y1) + 0.5;\n    var min_x = Math.min(x0, x1);\n    var min_y = Math.min(y0, y1);\n    var width = Math.abs(x1 - x0);\n    var height = Math.abs(y1 - y0);\n\n    fig.rubberband_context.clearRect(\n        0,\n        0,\n        fig.canvas.width / fig.ratio,\n        fig.canvas.height / fig.ratio\n    );\n\n    fig.rubberband_context.strokeRect(min_x, min_y, width, height);\n};\n\nmpl.figure.prototype.handle_figure_label = function (fig, msg) {\n    // Updates the figure title.\n    fig.header.textContent = msg['label'];\n};\n\nmpl.figure.prototype.handle_cursor = function (fig, msg) {\n    fig.canvas_div.style.cursor = msg['cursor'];\n};\n\nmpl.figure.prototype.handle_message = function (fig, msg) {\n    fig.message.textContent = msg['message'];\n};\n\nmpl.figure.prototype.handle_draw = function (fig, _msg) {\n    // Request the server to send over a new figure.\n    fig.send_draw_message();\n};\n\nmpl.figure.prototype.handle_image_mode = function (fig, msg) {\n    fig.image_mode = msg['mode'];\n};\n\nmpl.figure.prototype.handle_history_buttons = function (fig, msg) {\n    for (var key in msg) {\n        if (!(key in fig.buttons)) {\n            continue;\n        }\n        fig.buttons[key].disabled = !msg[key];\n        fig.buttons[key].setAttribute('aria-disabled', !msg[key]);\n    }\n};\n\nmpl.figure.prototype.handle_navigate_mode = function (fig, msg) {\n    if (msg['mode'] === 'PAN') {\n        fig.buttons['Pan'].classList.add('active');\n        fig.buttons['Zoom'].classList.remove('active');\n    } else if (msg['mode'] === 'ZOOM') {\n        fig.buttons['Pan'].classList.remove('active');\n        fig.buttons['Zoom'].classList.add('active');\n    } else {\n        fig.buttons['Pan'].classList.remove('active');\n        fig.buttons['Zoom'].classList.remove('active');\n    }\n};\n\nmpl.figure.prototype.updated_canvas_event = function () {\n    // Called whenever the canvas gets updated.\n    this.send_message('ack', {});\n};\n\n// A function to construct a web socket function for onmessage handling.\n// Called in the figure constructor.\nmpl.figure.prototype._make_on_message_function = function (fig) {\n    return function socket_on_message(evt) {\n        if (evt.data instanceof Blob) {\n            var img = evt.data;\n            if (img.type !== 'image/png') {\n                /* FIXME: We get \"Resource interpreted as Image but\n                 * transferred with MIME type text/plain:\" errors on\n                 * Chrome.  But how to set the MIME type?  It doesn't seem\n                 * to be part of the websocket stream */\n                img.type = 'image/png';\n            }\n\n            /* Free the memory for the previous frames */\n            if (fig.imageObj.src) {\n                (window.URL || window.webkitURL).revokeObjectURL(\n                    fig.imageObj.src\n                );\n            }\n\n            fig.imageObj.src = (window.URL || window.webkitURL).createObjectURL(\n                img\n            );\n            fig.updated_canvas_event();\n            fig.waiting = false;\n            return;\n        } else if (\n            typeof evt.data === 'string' &&\n            evt.data.slice(0, 21) === 'data:image/png;base64'\n        ) {\n            fig.imageObj.src = evt.data;\n            fig.updated_canvas_event();\n            fig.waiting = false;\n            return;\n        }\n\n        var msg = JSON.parse(evt.data);\n        var msg_type = msg['type'];\n\n        // Call the  \"handle_{type}\" callback, which takes\n        // the figure and JSON message as its only arguments.\n        try {\n            var callback = fig['handle_' + msg_type];\n        } catch (e) {\n            console.log(\n                \"No handler for the '\" + msg_type + \"' message type: \",\n                msg\n            );\n            return;\n        }\n\n        if (callback) {\n            try {\n                // console.log(\"Handling '\" + msg_type + \"' message: \", msg);\n                callback(fig, msg);\n            } catch (e) {\n                console.log(\n                    \"Exception inside the 'handler_\" + msg_type + \"' callback:\",\n                    e,\n                    e.stack,\n                    msg\n                );\n            }\n        }\n    };\n};\n\nfunction getModifiers(event) {\n    var mods = [];\n    if (event.ctrlKey) {\n        mods.push('ctrl');\n    }\n    if (event.altKey) {\n        mods.push('alt');\n    }\n    if (event.shiftKey) {\n        mods.push('shift');\n    }\n    if (event.metaKey) {\n        mods.push('meta');\n    }\n    return mods;\n}\n\n/*\n * return a copy of an object with only non-object keys\n * we need this to avoid circular references\n * https://stackoverflow.com/a/24161582/3208463\n */\nfunction simpleKeys(original) {\n    return Object.keys(original).reduce(function (obj, key) {\n        if (typeof original[key] !== 'object') {\n            obj[key] = original[key];\n        }\n        return obj;\n    }, {});\n}\n\nmpl.figure.prototype.mouse_event = function (event, name) {\n    if (name === 'button_press') {\n        this.canvas.focus();\n        this.canvas_div.focus();\n    }\n\n    // from https://stackoverflow.com/q/1114465\n    var boundingRect = this.canvas.getBoundingClientRect();\n    var x = (event.clientX - boundingRect.left) * this.ratio;\n    var y = (event.clientY - boundingRect.top) * this.ratio;\n\n    this.send_message(name, {\n        x: x,\n        y: y,\n        button: event.button,\n        step: event.step,\n        buttons: event.buttons,\n        modifiers: getModifiers(event),\n        guiEvent: simpleKeys(event),\n    });\n\n    return false;\n};\n\nmpl.figure.prototype._key_event_extra = function (_event, _name) {\n    // Handle any extra behaviour associated with a key event\n};\n\nmpl.figure.prototype.key_event = function (event, name) {\n    // Prevent repeat events\n    if (name === 'key_press') {\n        if (event.key === this._key) {\n            return;\n        } else {\n            this._key = event.key;\n        }\n    }\n    if (name === 'key_release') {\n        this._key = null;\n    }\n\n    var value = '';\n    if (event.ctrlKey && event.key !== 'Control') {\n        value += 'ctrl+';\n    }\n    else if (event.altKey && event.key !== 'Alt') {\n        value += 'alt+';\n    }\n    else if (event.shiftKey && event.key !== 'Shift') {\n        value += 'shift+';\n    }\n\n    value += 'k' + event.key;\n\n    this._key_event_extra(event, name);\n\n    this.send_message(name, { key: value, guiEvent: simpleKeys(event) });\n    return false;\n};\n\nmpl.figure.prototype.toolbar_button_onclick = function (name) {\n    if (name === 'download') {\n        this.handle_save(this, null);\n    } else {\n        this.send_message('toolbar_button', { name: name });\n    }\n};\n\nmpl.figure.prototype.toolbar_button_onmouseover = function (tooltip) {\n    this.message.textContent = tooltip;\n};\n\n///////////////// REMAINING CONTENT GENERATED BY embed_js.py /////////////////\n// prettier-ignore\nvar _JSXTOOLS_RESIZE_OBSERVER=function(A){var t,i=new WeakMap,n=new WeakMap,a=new WeakMap,r=new WeakMap,o=new Set;function s(e){if(!(this instanceof s))throw new TypeError(\"Constructor requires 'new' operator\");i.set(this,e)}function h(){throw new TypeError(\"Function is not a constructor\")}function c(e,t,i,n){e=0 in arguments?Number(arguments[0]):0,t=1 in arguments?Number(arguments[1]):0,i=2 in arguments?Number(arguments[2]):0,n=3 in arguments?Number(arguments[3]):0,this.right=(this.x=this.left=e)+(this.width=i),this.bottom=(this.y=this.top=t)+(this.height=n),Object.freeze(this)}function d(){t=requestAnimationFrame(d);var s=new WeakMap,p=new Set;o.forEach((function(t){r.get(t).forEach((function(i){var r=t instanceof window.SVGElement,o=a.get(t),d=r?0:parseFloat(o.paddingTop),f=r?0:parseFloat(o.paddingRight),l=r?0:parseFloat(o.paddingBottom),u=r?0:parseFloat(o.paddingLeft),g=r?0:parseFloat(o.borderTopWidth),m=r?0:parseFloat(o.borderRightWidth),w=r?0:parseFloat(o.borderBottomWidth),b=u+f,F=d+l,v=(r?0:parseFloat(o.borderLeftWidth))+m,W=g+w,y=r?0:t.offsetHeight-W-t.clientHeight,E=r?0:t.offsetWidth-v-t.clientWidth,R=b+v,z=F+W,M=r?t.width:parseFloat(o.width)-R-E,O=r?t.height:parseFloat(o.height)-z-y;if(n.has(t)){var k=n.get(t);if(k[0]===M&&k[1]===O)return}n.set(t,[M,O]);var S=Object.create(h.prototype);S.target=t,S.contentRect=new c(u,d,M,O),s.has(i)||(s.set(i,[]),p.add(i)),s.get(i).push(S)}))})),p.forEach((function(e){i.get(e).call(e,s.get(e),e)}))}return s.prototype.observe=function(i){if(i instanceof window.Element){r.has(i)||(r.set(i,new Set),o.add(i),a.set(i,window.getComputedStyle(i)));var n=r.get(i);n.has(this)||n.add(this),cancelAnimationFrame(t),t=requestAnimationFrame(d)}},s.prototype.unobserve=function(i){if(i instanceof window.Element&&r.has(i)){var n=r.get(i);n.has(this)&&(n.delete(this),n.size||(r.delete(i),o.delete(i))),n.size||r.delete(i),o.size||cancelAnimationFrame(t)}},A.DOMRectReadOnly=c,A.ResizeObserver=s,A.ResizeObserverEntry=h,A}; // eslint-disable-line\nmpl.toolbar_items = [[\"Home\", \"Reset original view\", \"fa fa-home\", \"home\"], [\"Back\", \"Back to previous view\", \"fa fa-arrow-left\", \"back\"], [\"Forward\", \"Forward to next view\", \"fa fa-arrow-right\", \"forward\"], [\"\", \"\", \"\", \"\"], [\"Pan\", \"Left button pans, Right button zooms\\nx/y fixes axis, CTRL fixes aspect\", \"fa fa-arrows\", \"pan\"], [\"Zoom\", \"Zoom to rectangle\\nx/y fixes axis\", \"fa fa-square-o\", \"zoom\"], [\"\", \"\", \"\", \"\"], [\"Download\", \"Download plot\", \"fa fa-floppy-o\", \"download\"]];\n\nmpl.extensions = [\"eps\", \"jpeg\", \"pgf\", \"pdf\", \"png\", \"ps\", \"raw\", \"svg\", \"tif\", \"webp\"];\n\nmpl.default_extension = \"png\";/* global mpl */\n\nvar comm_websocket_adapter = function (comm) {\n    // Create a \"websocket\"-like object which calls the given IPython comm\n    // object with the appropriate methods. Currently this is a non binary\n    // socket, so there is still some room for performance tuning.\n    var ws = {};\n\n    ws.binaryType = comm.kernel.ws.binaryType;\n    ws.readyState = comm.kernel.ws.readyState;\n    function updateReadyState(_event) {\n        if (comm.kernel.ws) {\n            ws.readyState = comm.kernel.ws.readyState;\n        } else {\n            ws.readyState = 3; // Closed state.\n        }\n    }\n    comm.kernel.ws.addEventListener('open', updateReadyState);\n    comm.kernel.ws.addEventListener('close', updateReadyState);\n    comm.kernel.ws.addEventListener('error', updateReadyState);\n\n    ws.close = function () {\n        comm.close();\n    };\n    ws.send = function (m) {\n        //console.log('sending', m);\n        comm.send(m);\n    };\n    // Register the callback with on_msg.\n    comm.on_msg(function (msg) {\n        //console.log('receiving', msg['content']['data'], msg);\n        var data = msg['content']['data'];\n        if (data['blob'] !== undefined) {\n            data = {\n                data: new Blob(msg['buffers'], { type: data['blob'] }),\n            };\n        }\n        // Pass the mpl event to the overridden (by mpl) onmessage function.\n        ws.onmessage(data);\n    });\n    return ws;\n};\n\nmpl.mpl_figure_comm = function (comm, msg) {\n    // This is the function which gets called when the mpl process\n    // starts-up an IPython Comm through the \"matplotlib\" channel.\n\n    var id = msg.content.data.id;\n    // Get hold of the div created by the display call when the Comm\n    // socket was opened in Python.\n    var element = document.getElementById(id);\n    var ws_proxy = comm_websocket_adapter(comm);\n\n    function ondownload(figure, _format) {\n        window.open(figure.canvas.toDataURL());\n    }\n\n    var fig = new mpl.figure(id, ws_proxy, ondownload, element);\n\n    // Call onopen now - mpl needs it, as it is assuming we've passed it a real\n    // web socket which is closed, not our websocket->open comm proxy.\n    ws_proxy.onopen();\n\n    fig.parent_element = element;\n    fig.cell_info = mpl.find_output_cell(\"<div id='\" + id + \"'></div>\");\n    if (!fig.cell_info) {\n        console.error('Failed to find cell for figure', id, fig);\n        return;\n    }\n    fig.cell_info[0].output_area.element.on(\n        'cleared',\n        { fig: fig },\n        fig._remove_fig_handler\n    );\n};\n\nmpl.figure.prototype.handle_close = function (fig, msg) {\n    var width = fig.canvas.width / fig.ratio;\n    fig.cell_info[0].output_area.element.off(\n        'cleared',\n        fig._remove_fig_handler\n    );\n    fig.resizeObserverInstance.unobserve(fig.canvas_div);\n\n    // Update the output cell to use the data from the current canvas.\n    fig.push_to_output();\n    var dataURL = fig.canvas.toDataURL();\n    // Re-enable the keyboard manager in IPython - without this line, in FF,\n    // the notebook keyboard shortcuts fail.\n    IPython.keyboard_manager.enable();\n    fig.parent_element.innerHTML =\n        '<img src=\"' + dataURL + '\" width=\"' + width + '\">';\n    fig.close_ws(fig, msg);\n};\n\nmpl.figure.prototype.close_ws = function (fig, msg) {\n    fig.send_message('closing', msg);\n    // fig.ws.close()\n};\n\nmpl.figure.prototype.push_to_output = function (_remove_interactive) {\n    // Turn the data on the canvas into data in the output cell.\n    var width = this.canvas.width / this.ratio;\n    var dataURL = this.canvas.toDataURL();\n    this.cell_info[1]['text/html'] =\n        '<img src=\"' + dataURL + '\" width=\"' + width + '\">';\n};\n\nmpl.figure.prototype.updated_canvas_event = function () {\n    // Tell IPython that the notebook contents must change.\n    IPython.notebook.set_dirty(true);\n    this.send_message('ack', {});\n    var fig = this;\n    // Wait a second, then push the new image to the DOM so\n    // that it is saved nicely (might be nice to debounce this).\n    setTimeout(function () {\n        fig.push_to_output();\n    }, 1000);\n};\n\nmpl.figure.prototype._init_toolbar = function () {\n    var fig = this;\n\n    var toolbar = document.createElement('div');\n    toolbar.classList = 'btn-toolbar';\n    this.root.appendChild(toolbar);\n\n    function on_click_closure(name) {\n        return function (_event) {\n            return fig.toolbar_button_onclick(name);\n        };\n    }\n\n    function on_mouseover_closure(tooltip) {\n        return function (event) {\n            if (!event.currentTarget.disabled) {\n                return fig.toolbar_button_onmouseover(tooltip);\n            }\n        };\n    }\n\n    fig.buttons = {};\n    var buttonGroup = document.createElement('div');\n    buttonGroup.classList = 'btn-group';\n    var button;\n    for (var toolbar_ind in mpl.toolbar_items) {\n        var name = mpl.toolbar_items[toolbar_ind][0];\n        var tooltip = mpl.toolbar_items[toolbar_ind][1];\n        var image = mpl.toolbar_items[toolbar_ind][2];\n        var method_name = mpl.toolbar_items[toolbar_ind][3];\n\n        if (!name) {\n            /* Instead of a spacer, we start a new button group. */\n            if (buttonGroup.hasChildNodes()) {\n                toolbar.appendChild(buttonGroup);\n            }\n            buttonGroup = document.createElement('div');\n            buttonGroup.classList = 'btn-group';\n            continue;\n        }\n\n        button = fig.buttons[name] = document.createElement('button');\n        button.classList = 'btn btn-default';\n        button.href = '#';\n        button.title = name;\n        button.innerHTML = '<i class=\"fa ' + image + ' fa-lg\"></i>';\n        button.addEventListener('click', on_click_closure(method_name));\n        button.addEventListener('mouseover', on_mouseover_closure(tooltip));\n        buttonGroup.appendChild(button);\n    }\n\n    if (buttonGroup.hasChildNodes()) {\n        toolbar.appendChild(buttonGroup);\n    }\n\n    // Add the status bar.\n    var status_bar = document.createElement('span');\n    status_bar.classList = 'mpl-message pull-right';\n    toolbar.appendChild(status_bar);\n    this.message = status_bar;\n\n    // Add the close button to the window.\n    var buttongrp = document.createElement('div');\n    buttongrp.classList = 'btn-group inline pull-right';\n    button = document.createElement('button');\n    button.classList = 'btn btn-mini btn-primary';\n    button.href = '#';\n    button.title = 'Stop Interaction';\n    button.innerHTML = '<i class=\"fa fa-power-off icon-remove icon-large\"></i>';\n    button.addEventListener('click', function (_evt) {\n        fig.handle_close(fig, {});\n    });\n    button.addEventListener(\n        'mouseover',\n        on_mouseover_closure('Stop Interaction')\n    );\n    buttongrp.appendChild(button);\n    var titlebar = this.root.querySelector('.ui-dialog-titlebar');\n    titlebar.insertBefore(buttongrp, titlebar.firstChild);\n};\n\nmpl.figure.prototype._remove_fig_handler = function (event) {\n    var fig = event.data.fig;\n    if (event.target !== this) {\n        // Ignore bubbled events from children.\n        return;\n    }\n    fig.close_ws(fig, {});\n};\n\nmpl.figure.prototype._root_extra_style = function (el) {\n    el.style.boxSizing = 'content-box'; // override notebook setting of border-box.\n};\n\nmpl.figure.prototype._canvas_extra_style = function (el) {\n    // this is important to make the div 'focusable\n    el.setAttribute('tabindex', 0);\n    // reach out to IPython and tell the keyboard manager to turn it's self\n    // off when our div gets focus\n\n    // location in version 3\n    if (IPython.notebook.keyboard_manager) {\n        IPython.notebook.keyboard_manager.register_events(el);\n    } else {\n        // location in version 2\n        IPython.keyboard_manager.register_events(el);\n    }\n};\n\nmpl.figure.prototype._key_event_extra = function (event, _name) {\n    // Check for shift+enter\n    if (event.shiftKey && event.which === 13) {\n        this.canvas_div.blur();\n        // select the cell after this one\n        var index = IPython.notebook.find_cell_index(this.cell_info[0]);\n        IPython.notebook.select(index + 1);\n    }\n};\n\nmpl.figure.prototype.handle_save = function (fig, _msg) {\n    fig.ondownload(fig, null);\n};\n\nmpl.find_output_cell = function (html_output) {\n    // Return the cell and output element which can be found *uniquely* in the notebook.\n    // Note - this is a bit hacky, but it is done because the \"notebook_saving.Notebook\"\n    // IPython event is triggered only after the cells have been serialised, which for\n    // our purposes (turning an active figure into a static one), is too late.\n    var cells = IPython.notebook.get_cells();\n    var ncells = cells.length;\n    for (var i = 0; i < ncells; i++) {\n        var cell = cells[i];\n        if (cell.cell_type === 'code') {\n            for (var j = 0; j < cell.output_area.outputs.length; j++) {\n                var data = cell.output_area.outputs[j];\n                if (data.data) {\n                    // IPython >= 3 moved mimebundle to data attribute of output\n                    data = data.data;\n                }\n                if (data['text/html'] === html_output) {\n                    return [cell, data, j];\n                }\n            }\n        }\n    }\n};\n\n// Register the function which deals with the matplotlib target/channel.\n// The kernel may be null if the page has been refreshed.\nif (IPython.notebook.kernel !== null) {\n    IPython.notebook.kernel.comm_manager.register_target(\n        'matplotlib',\n        mpl.mpl_figure_comm\n    );\n}\n",
      "text/plain": [
       "<IPython.core.display.Javascript object>"
      ]
     },
     "metadata": {},
     "output_type": "display_data"
    },
    {
     "data": {
      "text/html": [
       "<div id='9b1669dc-4b51-4805-90de-a1bf4b04af3a'></div>"
      ],
      "text/plain": [
       "<IPython.core.display.HTML object>"
      ]
     },
     "metadata": {},
     "output_type": "display_data"
    },
    {
     "data": {
      "image/png": "[encoded data removed]",
      "text/plain": [
       "<IPython.core.display.Image object>"
      ]
     },
     "execution_count": 377,
     "metadata": {},
     "output_type": "execute_result"
    }
   ],
   "source": [
    "plt.figure(figsize=(18, 6))\n",
    "\n",
    "for speaker, color in speaker_colors.items():\n",
    "    speaker_df = df[df[\"Speaker\"] == speaker].dropna(subset=[\"Time\", \"Sentiment Score\"])\n",
    "\n",
    "    speaker_df = speaker_df.copy()\n",
    "    speaker_df[\"Time\"] = pd.to_numeric(speaker_df[\"Time\"], errors=\"coerce\")\n",
    "    speaker_df[\"Sentiment Score\"] = pd.to_numeric(speaker_df[\"Sentiment Score\"], errors=\"coerce\")\n",
    "    speaker_df.dropna(subset=[\"Time\", \"Sentiment Score\"], inplace=True)\n",
    "\n",
    "    plt.scatter(speaker_df[\"Time\"], speaker_df[\"Sentiment Score\"], color=color, alpha=0.6, label=f\"{speaker} Points\")\n",
    "\n",
    "    for _, row in speaker_df.iterrows():\n",
    "        style = emotion_styles.get(row[\"Emotion\"], {}).get(row[\"Speaker\"], {\"symbol\": \"?\", \"color\": \"black\"})\n",
    "        y_offset = 0.15 if row[\"Speaker\"] == \"Customer\" else -0.25\n",
    "        va = \"bottom\" if row[\"Speaker\"] == \"Customer\" else \"top\"\n",
    "\n",
    "        plt.text(row[\"Time\"], row[\"Sentiment Score\"] + y_offset,\n",
    "                 style[\"symbol\"], fontsize=16, ha=\"center\", va=va, color=style[\"color\"])\n",
    "\n",
    "    if len(speaker_df) >= 3:\n",
    "        z = np.polyfit(speaker_df[\"Time\"], speaker_df[\"Sentiment Score\"], 2)\n",
    "        p = np.poly1d(z)\n",
    "        time_range = np.linspace(speaker_df[\"Time\"].min(), speaker_df[\"Time\"].max(), 200)\n",
    "        plt.plot(time_range, p(time_range), color=color, linewidth=2, label=f\"{speaker} Trend\")\n",
    "\n",
    "# Add neutral baseline\n",
    "plt.axhline(y=0, color=\"gray\", linestyle=\"dashed\", linewidth=2, label=\"Neutral Baseline\")\n",
    "\n",
    "# Labels and styling\n",
    "plt.xlabel(\"Recording Time (s)\")\n",
    "plt.ylabel(\"Sentiment Score (-1: Negative, 0: Neutral, 1: Positive)\")\n",
    "plt.title(\"Sentiment Fluctuation Over Time by Speaker - Pharmacy\")\n",
    "plt.ylim(-1.5, 1.5)\n",
    "plt.grid()\n",
    "\n",
    "# First legend: speakers\n",
    "first_legend = plt.legend(loc=\"lower left\", title=\"Speakers & Trends\")\n",
    "plt.gca().add_artist(first_legend)\n",
    "\n",
    "# Build dual-column emoji legend (without repeated \"Customer\"/\"Rep\")\n",
    "emotion_order = [\"neutral\", \"calm\", \"happy\", \"sad\", \"fearful\", \"disgust\", \"surprised\", \"angry\"]\n",
    "\n",
    "col_a = []\n",
    "col_b = []\n",
    "labels_a = []\n",
    "labels_b = []\n",
    "\n",
    "for emotion in emotion_order:\n",
    "    customer = emotion_styles[emotion][\"Customer\"]\n",
    "    rep = emotion_styles[emotion][\"Representative\"]\n",
    "\n",
    "    col_a.append(Line2D([0], [0], marker='o', color='none',\n",
    "                        markerfacecolor=customer[\"color\"], markersize=12, linestyle='None'))\n",
    "    labels_a.append(f\"{customer['symbol']} {emotion.capitalize()}\")\n",
    "\n",
    "    col_b.append(Line2D([0], [0], marker='o', color='none',\n",
    "                        markerfacecolor=rep[\"color\"], markersize=12, linestyle='None'))\n",
    "    labels_b.append(f\"{rep['symbol']} {emotion.capitalize()}\")\n",
    "\n",
    "# Combine and add legend\n",
    "plt.legend(handles=col_a + col_b,\n",
    "           labels=labels_a + labels_b,\n",
    "           loc=\"lower right\",\n",
    "           title=\"Emotions (Customer ←→ Rep)\",\n",
    "           ncol=2,\n",
    "           columnspacing=2.0,\n",
    "           handletextpad=1.0)\n",
    "\n",
    "plt.tight_layout()\n",
    "plt.savefig(\"sentiment_over_time_by_speaker.png\", bbox_inches='tight')\n",
    "plt.close()\n",
    "\n",
    "Image(\"sentiment_over_time_by_speaker.png\")"
   ]
  },
  {
   "cell_type": "code",
   "execution_count": 376,
   "metadata": {
    "tags": []
   },
   "outputs": [
    {
     "data": {
      "application/javascript": "/* Put everything inside the global mpl namespace */\n/* global mpl */\nwindow.mpl = {};\n\nmpl.get_websocket_type = function () {\n    if (typeof WebSocket !== 'undefined') {\n        return WebSocket;\n    } else if (typeof MozWebSocket !== 'undefined') {\n        return MozWebSocket;\n    } else {\n        alert(\n            'Your browser does not have WebSocket support. ' +\n                'Please try Chrome, Safari or Firefox ≥ 6. ' +\n                'Firefox 4 and 5 are also supported but you ' +\n                'have to enable WebSockets in about:config.'\n        );\n    }\n};\n\nmpl.figure = function (figure_id, websocket, ondownload, parent_element) {\n    this.id = figure_id;\n\n    this.ws = websocket;\n\n    this.supports_binary = this.ws.binaryType !== undefined;\n\n    if (!this.supports_binary) {\n        var warnings = document.getElementById('mpl-warnings');\n        if (warnings) {\n            warnings.style.display = 'block';\n            warnings.textContent =\n                'This browser does not support binary websocket messages. ' +\n                'Performance may be slow.';\n        }\n    }\n\n    this.imageObj = new Image();\n\n    this.context = undefined;\n    this.message = undefined;\n    this.canvas = undefined;\n    this.rubberband_canvas = undefined;\n    this.rubberband_context = undefined;\n    this.format_dropdown = undefined;\n\n    this.image_mode = 'full';\n\n    this.root = document.createElement('div');\n    this.root.setAttribute('style', 'display: inline-block');\n    this._root_extra_style(this.root);\n\n    parent_element.appendChild(this.root);\n\n    this._init_header(this);\n    this._init_canvas(this);\n    this._init_toolbar(this);\n\n    var fig = this;\n\n    this.waiting = false;\n\n    this.ws.onopen = function () {\n        fig.send_message('supports_binary', { value: fig.supports_binary });\n        fig.send_message('send_image_mode', {});\n        if (fig.ratio !== 1) {\n            fig.send_message('set_device_pixel_ratio', {\n                device_pixel_ratio: fig.ratio,\n            });\n        }\n        fig.send_message('refresh', {});\n    };\n\n    this.imageObj.onload = function () {\n        if (fig.image_mode === 'full') {\n            // Full images could contain transparency (where diff images\n            // almost always do), so we need to clear the canvas so that\n            // there is no ghosting.\n            fig.context.clearRect(0, 0, fig.canvas.width, fig.canvas.height);\n        }\n        fig.context.drawImage(fig.imageObj, 0, 0);\n    };\n\n    this.imageObj.onunload = function () {\n        fig.ws.close();\n    };\n\n    this.ws.onmessage = this._make_on_message_function(this);\n\n    this.ondownload = ondownload;\n};\n\nmpl.figure.prototype._init_header = function () {\n    var titlebar = document.createElement('div');\n    titlebar.classList =\n        'ui-dialog-titlebar ui-widget-header ui-corner-all ui-helper-clearfix';\n    var titletext = document.createElement('div');\n    titletext.classList = 'ui-dialog-title';\n    titletext.setAttribute(\n        'style',\n        'width: 100%; text-align: center; padding: 3px;'\n    );\n    titlebar.appendChild(titletext);\n    this.root.appendChild(titlebar);\n    this.header = titletext;\n};\n\nmpl.figure.prototype._canvas_extra_style = function (_canvas_div) {};\n\nmpl.figure.prototype._root_extra_style = function (_canvas_div) {};\n\nmpl.figure.prototype._init_canvas = function () {\n    var fig = this;\n\n    var canvas_div = (this.canvas_div = document.createElement('div'));\n    canvas_div.setAttribute('tabindex', '0');\n    canvas_div.setAttribute(\n        'style',\n        'border: 1px solid #ddd;' +\n            'box-sizing: content-box;' +\n            'clear: both;' +\n            'min-height: 1px;' +\n            'min-width: 1px;' +\n            'outline: 0;' +\n            'overflow: hidden;' +\n            'position: relative;' +\n            'resize: both;' +\n            'z-index: 2;'\n    );\n\n    function on_keyboard_event_closure(name) {\n        return function (event) {\n            return fig.key_event(event, name);\n        };\n    }\n\n    canvas_div.addEventListener(\n        'keydown',\n        on_keyboard_event_closure('key_press')\n    );\n    canvas_div.addEventListener(\n        'keyup',\n        on_keyboard_event_closure('key_release')\n    );\n\n    this._canvas_extra_style(canvas_div);\n    this.root.appendChild(canvas_div);\n\n    var canvas = (this.canvas = document.createElement('canvas'));\n    canvas.classList.add('mpl-canvas');\n    canvas.setAttribute(\n        'style',\n        'box-sizing: content-box;' +\n            'pointer-events: none;' +\n            'position: relative;' +\n            'z-index: 0;'\n    );\n\n    this.context = canvas.getContext('2d');\n\n    var backingStore =\n        this.context.backingStorePixelRatio ||\n        this.context.webkitBackingStorePixelRatio ||\n        this.context.mozBackingStorePixelRatio ||\n        this.context.msBackingStorePixelRatio ||\n        this.context.oBackingStorePixelRatio ||\n        this.context.backingStorePixelRatio ||\n        1;\n\n    this.ratio = (window.devicePixelRatio || 1) / backingStore;\n\n    var rubberband_canvas = (this.rubberband_canvas = document.createElement(\n        'canvas'\n    ));\n    rubberband_canvas.setAttribute(\n        'style',\n        'box-sizing: content-box;' +\n            'left: 0;' +\n            'pointer-events: none;' +\n            'position: absolute;' +\n            'top: 0;' +\n            'z-index: 1;'\n    );\n\n    // Apply a ponyfill if ResizeObserver is not implemented by browser.\n    if (this.ResizeObserver === undefined) {\n        if (window.ResizeObserver !== undefined) {\n            this.ResizeObserver = window.ResizeObserver;\n        } else {\n            var obs = _JSXTOOLS_RESIZE_OBSERVER({});\n            this.ResizeObserver = obs.ResizeObserver;\n        }\n    }\n\n    this.resizeObserverInstance = new this.ResizeObserver(function (entries) {\n        // There's no need to resize if the WebSocket is not connected:\n        // - If it is still connecting, then we will get an initial resize from\n        //   Python once it connects.\n        // - If it has disconnected, then resizing will clear the canvas and\n        //   never get anything back to refill it, so better to not resize and\n        //   keep something visible.\n        if (fig.ws.readyState != 1) {\n            return;\n        }\n        var nentries = entries.length;\n        for (var i = 0; i < nentries; i++) {\n            var entry = entries[i];\n            var width, height;\n            if (entry.contentBoxSize) {\n                if (entry.contentBoxSize instanceof Array) {\n                    // Chrome 84 implements new version of spec.\n                    width = entry.contentBoxSize[0].inlineSize;\n                    height = entry.contentBoxSize[0].blockSize;\n                } else {\n                    // Firefox implements old version of spec.\n                    width = entry.contentBoxSize.inlineSize;\n                    height = entry.contentBoxSize.blockSize;\n                }\n            } else {\n                // Chrome <84 implements even older version of spec.\n                width = entry.contentRect.width;\n                height = entry.contentRect.height;\n            }\n\n            // Keep the size of the canvas and rubber band canvas in sync with\n            // the canvas container.\n            if (entry.devicePixelContentBoxSize) {\n                // Chrome 84 implements new version of spec.\n                canvas.setAttribute(\n                    'width',\n                    entry.devicePixelContentBoxSize[0].inlineSize\n                );\n                canvas.setAttribute(\n                    'height',\n                    entry.devicePixelContentBoxSize[0].blockSize\n                );\n            } else {\n                canvas.setAttribute('width', width * fig.ratio);\n                canvas.setAttribute('height', height * fig.ratio);\n            }\n            /* This rescales the canvas back to display pixels, so that it\n             * appears correct on HiDPI screens. */\n            canvas.style.width = width + 'px';\n            canvas.style.height = height + 'px';\n\n            rubberband_canvas.setAttribute('width', width);\n            rubberband_canvas.setAttribute('height', height);\n\n            // And update the size in Python. We ignore the initial 0/0 size\n            // that occurs as the element is placed into the DOM, which should\n            // otherwise not happen due to the minimum size styling.\n            if (width != 0 && height != 0) {\n                fig.request_resize(width, height);\n            }\n        }\n    });\n    this.resizeObserverInstance.observe(canvas_div);\n\n    function on_mouse_event_closure(name) {\n        /* User Agent sniffing is bad, but WebKit is busted:\n         * https://bugs.webkit.org/show_bug.cgi?id=144526\n         * https://bugs.webkit.org/show_bug.cgi?id=181818\n         * The worst that happens here is that they get an extra browser\n         * selection when dragging, if this check fails to catch them.\n         */\n        var UA = navigator.userAgent;\n        var isWebKit = /AppleWebKit/.test(UA) && !/Chrome/.test(UA);\n        if(isWebKit) {\n            return function (event) {\n                /* This prevents the web browser from automatically changing to\n                 * the text insertion cursor when the button is pressed. We\n                 * want to control all of the cursor setting manually through\n                 * the 'cursor' event from matplotlib */\n                event.preventDefault()\n                return fig.mouse_event(event, name);\n            };\n        } else {\n            return function (event) {\n                return fig.mouse_event(event, name);\n            };\n        }\n    }\n\n    canvas_div.addEventListener(\n        'mousedown',\n        on_mouse_event_closure('button_press')\n    );\n    canvas_div.addEventListener(\n        'mouseup',\n        on_mouse_event_closure('button_release')\n    );\n    canvas_div.addEventListener(\n        'dblclick',\n        on_mouse_event_closure('dblclick')\n    );\n    // Throttle sequential mouse events to 1 every 20ms.\n    canvas_div.addEventListener(\n        'mousemove',\n        on_mouse_event_closure('motion_notify')\n    );\n\n    canvas_div.addEventListener(\n        'mouseenter',\n        on_mouse_event_closure('figure_enter')\n    );\n    canvas_div.addEventListener(\n        'mouseleave',\n        on_mouse_event_closure('figure_leave')\n    );\n\n    canvas_div.addEventListener('wheel', function (event) {\n        if (event.deltaY < 0) {\n            event.step = 1;\n        } else {\n            event.step = -1;\n        }\n        on_mouse_event_closure('scroll')(event);\n    });\n\n    canvas_div.appendChild(canvas);\n    canvas_div.appendChild(rubberband_canvas);\n\n    this.rubberband_context = rubberband_canvas.getContext('2d');\n    this.rubberband_context.strokeStyle = '#000000';\n\n    this._resize_canvas = function (width, height, forward) {\n        if (forward) {\n            canvas_div.style.width = width + 'px';\n            canvas_div.style.height = height + 'px';\n        }\n    };\n\n    // Disable right mouse context menu.\n    canvas_div.addEventListener('contextmenu', function (_e) {\n        event.preventDefault();\n        return false;\n    });\n\n    function set_focus() {\n        canvas.focus();\n        canvas_div.focus();\n    }\n\n    window.setTimeout(set_focus, 100);\n};\n\nmpl.figure.prototype._init_toolbar = function () {\n    var fig = this;\n\n    var toolbar = document.createElement('div');\n    toolbar.classList = 'mpl-toolbar';\n    this.root.appendChild(toolbar);\n\n    function on_click_closure(name) {\n        return function (_event) {\n            return fig.toolbar_button_onclick(name);\n        };\n    }\n\n    function on_mouseover_closure(tooltip) {\n        return function (event) {\n            if (!event.currentTarget.disabled) {\n                return fig.toolbar_button_onmouseover(tooltip);\n            }\n        };\n    }\n\n    fig.buttons = {};\n    var buttonGroup = document.createElement('div');\n    buttonGroup.classList = 'mpl-button-group';\n    for (var toolbar_ind in mpl.toolbar_items) {\n        var name = mpl.toolbar_items[toolbar_ind][0];\n        var tooltip = mpl.toolbar_items[toolbar_ind][1];\n        var image = mpl.toolbar_items[toolbar_ind][2];\n        var method_name = mpl.toolbar_items[toolbar_ind][3];\n\n        if (!name) {\n            /* Instead of a spacer, we start a new button group. */\n            if (buttonGroup.hasChildNodes()) {\n                toolbar.appendChild(buttonGroup);\n            }\n            buttonGroup = document.createElement('div');\n            buttonGroup.classList = 'mpl-button-group';\n            continue;\n        }\n\n        var button = (fig.buttons[name] = document.createElement('button'));\n        button.classList = 'mpl-widget';\n        button.setAttribute('role', 'button');\n        button.setAttribute('aria-disabled', 'false');\n        button.addEventListener('click', on_click_closure(method_name));\n        button.addEventListener('mouseover', on_mouseover_closure(tooltip));\n\n        var icon_img = document.createElement('img');\n        icon_img.src = '_images/' + image + '.png';\n        icon_img.srcset = '_images/' + image + '_large.png 2x';\n        icon_img.alt = tooltip;\n        button.appendChild(icon_img);\n\n        buttonGroup.appendChild(button);\n    }\n\n    if (buttonGroup.hasChildNodes()) {\n        toolbar.appendChild(buttonGroup);\n    }\n\n    var fmt_picker = document.createElement('select');\n    fmt_picker.classList = 'mpl-widget';\n    toolbar.appendChild(fmt_picker);\n    this.format_dropdown = fmt_picker;\n\n    for (var ind in mpl.extensions) {\n        var fmt = mpl.extensions[ind];\n        var option = document.createElement('option');\n        option.selected = fmt === mpl.default_extension;\n        option.innerHTML = fmt;\n        fmt_picker.appendChild(option);\n    }\n\n    var status_bar = document.createElement('span');\n    status_bar.classList = 'mpl-message';\n    toolbar.appendChild(status_bar);\n    this.message = status_bar;\n};\n\nmpl.figure.prototype.request_resize = function (x_pixels, y_pixels) {\n    // Request matplotlib to resize the figure. Matplotlib will then trigger a resize in the client,\n    // which will in turn request a refresh of the image.\n    this.send_message('resize', { width: x_pixels, height: y_pixels });\n};\n\nmpl.figure.prototype.send_message = function (type, properties) {\n    properties['type'] = type;\n    properties['figure_id'] = this.id;\n    this.ws.send(JSON.stringify(properties));\n};\n\nmpl.figure.prototype.send_draw_message = function () {\n    if (!this.waiting) {\n        this.waiting = true;\n        this.ws.send(JSON.stringify({ type: 'draw', figure_id: this.id }));\n    }\n};\n\nmpl.figure.prototype.handle_save = function (fig, _msg) {\n    var format_dropdown = fig.format_dropdown;\n    var format = format_dropdown.options[format_dropdown.selectedIndex].value;\n    fig.ondownload(fig, format);\n};\n\nmpl.figure.prototype.handle_resize = function (fig, msg) {\n    var size = msg['size'];\n    if (size[0] !== fig.canvas.width || size[1] !== fig.canvas.height) {\n        fig._resize_canvas(size[0], size[1], msg['forward']);\n        fig.send_message('refresh', {});\n    }\n};\n\nmpl.figure.prototype.handle_rubberband = function (fig, msg) {\n    var x0 = msg['x0'] / fig.ratio;\n    var y0 = (fig.canvas.height - msg['y0']) / fig.ratio;\n    var x1 = msg['x1'] / fig.ratio;\n    var y1 = (fig.canvas.height - msg['y1']) / fig.ratio;\n    x0 = Math.floor(x0) + 0.5;\n    y0 = Math.floor(y0) + 0.5;\n    x1 = Math.floor(x1) + 0.5;\n    y1 = Math.floor(y1) + 0.5;\n    var min_x = Math.min(x0, x1);\n    var min_y = Math.min(y0, y1);\n    var width = Math.abs(x1 - x0);\n    var height = Math.abs(y1 - y0);\n\n    fig.rubberband_context.clearRect(\n        0,\n        0,\n        fig.canvas.width / fig.ratio,\n        fig.canvas.height / fig.ratio\n    );\n\n    fig.rubberband_context.strokeRect(min_x, min_y, width, height);\n};\n\nmpl.figure.prototype.handle_figure_label = function (fig, msg) {\n    // Updates the figure title.\n    fig.header.textContent = msg['label'];\n};\n\nmpl.figure.prototype.handle_cursor = function (fig, msg) {\n    fig.canvas_div.style.cursor = msg['cursor'];\n};\n\nmpl.figure.prototype.handle_message = function (fig, msg) {\n    fig.message.textContent = msg['message'];\n};\n\nmpl.figure.prototype.handle_draw = function (fig, _msg) {\n    // Request the server to send over a new figure.\n    fig.send_draw_message();\n};\n\nmpl.figure.prototype.handle_image_mode = function (fig, msg) {\n    fig.image_mode = msg['mode'];\n};\n\nmpl.figure.prototype.handle_history_buttons = function (fig, msg) {\n    for (var key in msg) {\n        if (!(key in fig.buttons)) {\n            continue;\n        }\n        fig.buttons[key].disabled = !msg[key];\n        fig.buttons[key].setAttribute('aria-disabled', !msg[key]);\n    }\n};\n\nmpl.figure.prototype.handle_navigate_mode = function (fig, msg) {\n    if (msg['mode'] === 'PAN') {\n        fig.buttons['Pan'].classList.add('active');\n        fig.buttons['Zoom'].classList.remove('active');\n    } else if (msg['mode'] === 'ZOOM') {\n        fig.buttons['Pan'].classList.remove('active');\n        fig.buttons['Zoom'].classList.add('active');\n    } else {\n        fig.buttons['Pan'].classList.remove('active');\n        fig.buttons['Zoom'].classList.remove('active');\n    }\n};\n\nmpl.figure.prototype.updated_canvas_event = function () {\n    // Called whenever the canvas gets updated.\n    this.send_message('ack', {});\n};\n\n// A function to construct a web socket function for onmessage handling.\n// Called in the figure constructor.\nmpl.figure.prototype._make_on_message_function = function (fig) {\n    return function socket_on_message(evt) {\n        if (evt.data instanceof Blob) {\n            var img = evt.data;\n            if (img.type !== 'image/png') {\n                /* FIXME: We get \"Resource interpreted as Image but\n                 * transferred with MIME type text/plain:\" errors on\n                 * Chrome.  But how to set the MIME type?  It doesn't seem\n                 * to be part of the websocket stream */\n                img.type = 'image/png';\n            }\n\n            /* Free the memory for the previous frames */\n            if (fig.imageObj.src) {\n                (window.URL || window.webkitURL).revokeObjectURL(\n                    fig.imageObj.src\n                );\n            }\n\n            fig.imageObj.src = (window.URL || window.webkitURL).createObjectURL(\n                img\n            );\n            fig.updated_canvas_event();\n            fig.waiting = false;\n            return;\n        } else if (\n            typeof evt.data === 'string' &&\n            evt.data.slice(0, 21) === 'data:image/png;base64'\n        ) {\n            fig.imageObj.src = evt.data;\n            fig.updated_canvas_event();\n            fig.waiting = false;\n            return;\n        }\n\n        var msg = JSON.parse(evt.data);\n        var msg_type = msg['type'];\n\n        // Call the  \"handle_{type}\" callback, which takes\n        // the figure and JSON message as its only arguments.\n        try {\n            var callback = fig['handle_' + msg_type];\n        } catch (e) {\n            console.log(\n                \"No handler for the '\" + msg_type + \"' message type: \",\n                msg\n            );\n            return;\n        }\n\n        if (callback) {\n            try {\n                // console.log(\"Handling '\" + msg_type + \"' message: \", msg);\n                callback(fig, msg);\n            } catch (e) {\n                console.log(\n                    \"Exception inside the 'handler_\" + msg_type + \"' callback:\",\n                    e,\n                    e.stack,\n                    msg\n                );\n            }\n        }\n    };\n};\n\nfunction getModifiers(event) {\n    var mods = [];\n    if (event.ctrlKey) {\n        mods.push('ctrl');\n    }\n    if (event.altKey) {\n        mods.push('alt');\n    }\n    if (event.shiftKey) {\n        mods.push('shift');\n    }\n    if (event.metaKey) {\n        mods.push('meta');\n    }\n    return mods;\n}\n\n/*\n * return a copy of an object with only non-object keys\n * we need this to avoid circular references\n * https://stackoverflow.com/a/24161582/3208463\n */\nfunction simpleKeys(original) {\n    return Object.keys(original).reduce(function (obj, key) {\n        if (typeof original[key] !== 'object') {\n            obj[key] = original[key];\n        }\n        return obj;\n    }, {});\n}\n\nmpl.figure.prototype.mouse_event = function (event, name) {\n    if (name === 'button_press') {\n        this.canvas.focus();\n        this.canvas_div.focus();\n    }\n\n    // from https://stackoverflow.com/q/1114465\n    var boundingRect = this.canvas.getBoundingClientRect();\n    var x = (event.clientX - boundingRect.left) * this.ratio;\n    var y = (event.clientY - boundingRect.top) * this.ratio;\n\n    this.send_message(name, {\n        x: x,\n        y: y,\n        button: event.button,\n        step: event.step,\n        buttons: event.buttons,\n        modifiers: getModifiers(event),\n        guiEvent: simpleKeys(event),\n    });\n\n    return false;\n};\n\nmpl.figure.prototype._key_event_extra = function (_event, _name) {\n    // Handle any extra behaviour associated with a key event\n};\n\nmpl.figure.prototype.key_event = function (event, name) {\n    // Prevent repeat events\n    if (name === 'key_press') {\n        if (event.key === this._key) {\n            return;\n        } else {\n            this._key = event.key;\n        }\n    }\n    if (name === 'key_release') {\n        this._key = null;\n    }\n\n    var value = '';\n    if (event.ctrlKey && event.key !== 'Control') {\n        value += 'ctrl+';\n    }\n    else if (event.altKey && event.key !== 'Alt') {\n        value += 'alt+';\n    }\n    else if (event.shiftKey && event.key !== 'Shift') {\n        value += 'shift+';\n    }\n\n    value += 'k' + event.key;\n\n    this._key_event_extra(event, name);\n\n    this.send_message(name, { key: value, guiEvent: simpleKeys(event) });\n    return false;\n};\n\nmpl.figure.prototype.toolbar_button_onclick = function (name) {\n    if (name === 'download') {\n        this.handle_save(this, null);\n    } else {\n        this.send_message('toolbar_button', { name: name });\n    }\n};\n\nmpl.figure.prototype.toolbar_button_onmouseover = function (tooltip) {\n    this.message.textContent = tooltip;\n};\n\n///////////////// REMAINING CONTENT GENERATED BY embed_js.py /////////////////\n// prettier-ignore\nvar _JSXTOOLS_RESIZE_OBSERVER=function(A){var t,i=new WeakMap,n=new WeakMap,a=new WeakMap,r=new WeakMap,o=new Set;function s(e){if(!(this instanceof s))throw new TypeError(\"Constructor requires 'new' operator\");i.set(this,e)}function h(){throw new TypeError(\"Function is not a constructor\")}function c(e,t,i,n){e=0 in arguments?Number(arguments[0]):0,t=1 in arguments?Number(arguments[1]):0,i=2 in arguments?Number(arguments[2]):0,n=3 in arguments?Number(arguments[3]):0,this.right=(this.x=this.left=e)+(this.width=i),this.bottom=(this.y=this.top=t)+(this.height=n),Object.freeze(this)}function d(){t=requestAnimationFrame(d);var s=new WeakMap,p=new Set;o.forEach((function(t){r.get(t).forEach((function(i){var r=t instanceof window.SVGElement,o=a.get(t),d=r?0:parseFloat(o.paddingTop),f=r?0:parseFloat(o.paddingRight),l=r?0:parseFloat(o.paddingBottom),u=r?0:parseFloat(o.paddingLeft),g=r?0:parseFloat(o.borderTopWidth),m=r?0:parseFloat(o.borderRightWidth),w=r?0:parseFloat(o.borderBottomWidth),b=u+f,F=d+l,v=(r?0:parseFloat(o.borderLeftWidth))+m,W=g+w,y=r?0:t.offsetHeight-W-t.clientHeight,E=r?0:t.offsetWidth-v-t.clientWidth,R=b+v,z=F+W,M=r?t.width:parseFloat(o.width)-R-E,O=r?t.height:parseFloat(o.height)-z-y;if(n.has(t)){var k=n.get(t);if(k[0]===M&&k[1]===O)return}n.set(t,[M,O]);var S=Object.create(h.prototype);S.target=t,S.contentRect=new c(u,d,M,O),s.has(i)||(s.set(i,[]),p.add(i)),s.get(i).push(S)}))})),p.forEach((function(e){i.get(e).call(e,s.get(e),e)}))}return s.prototype.observe=function(i){if(i instanceof window.Element){r.has(i)||(r.set(i,new Set),o.add(i),a.set(i,window.getComputedStyle(i)));var n=r.get(i);n.has(this)||n.add(this),cancelAnimationFrame(t),t=requestAnimationFrame(d)}},s.prototype.unobserve=function(i){if(i instanceof window.Element&&r.has(i)){var n=r.get(i);n.has(this)&&(n.delete(this),n.size||(r.delete(i),o.delete(i))),n.size||r.delete(i),o.size||cancelAnimationFrame(t)}},A.DOMRectReadOnly=c,A.ResizeObserver=s,A.ResizeObserverEntry=h,A}; // eslint-disable-line\nmpl.toolbar_items = [[\"Home\", \"Reset original view\", \"fa fa-home\", \"home\"], [\"Back\", \"Back to previous view\", \"fa fa-arrow-left\", \"back\"], [\"Forward\", \"Forward to next view\", \"fa fa-arrow-right\", \"forward\"], [\"\", \"\", \"\", \"\"], [\"Pan\", \"Left button pans, Right button zooms\\nx/y fixes axis, CTRL fixes aspect\", \"fa fa-arrows\", \"pan\"], [\"Zoom\", \"Zoom to rectangle\\nx/y fixes axis\", \"fa fa-square-o\", \"zoom\"], [\"\", \"\", \"\", \"\"], [\"Download\", \"Download plot\", \"fa fa-floppy-o\", \"download\"]];\n\nmpl.extensions = [\"eps\", \"jpeg\", \"pgf\", \"pdf\", \"png\", \"ps\", \"raw\", \"svg\", \"tif\", \"webp\"];\n\nmpl.default_extension = \"png\";/* global mpl */\n\nvar comm_websocket_adapter = function (comm) {\n    // Create a \"websocket\"-like object which calls the given IPython comm\n    // object with the appropriate methods. Currently this is a non binary\n    // socket, so there is still some room for performance tuning.\n    var ws = {};\n\n    ws.binaryType = comm.kernel.ws.binaryType;\n    ws.readyState = comm.kernel.ws.readyState;\n    function updateReadyState(_event) {\n        if (comm.kernel.ws) {\n            ws.readyState = comm.kernel.ws.readyState;\n        } else {\n            ws.readyState = 3; // Closed state.\n        }\n    }\n    comm.kernel.ws.addEventListener('open', updateReadyState);\n    comm.kernel.ws.addEventListener('close', updateReadyState);\n    comm.kernel.ws.addEventListener('error', updateReadyState);\n\n    ws.close = function () {\n        comm.close();\n    };\n    ws.send = function (m) {\n        //console.log('sending', m);\n        comm.send(m);\n    };\n    // Register the callback with on_msg.\n    comm.on_msg(function (msg) {\n        //console.log('receiving', msg['content']['data'], msg);\n        var data = msg['content']['data'];\n        if (data['blob'] !== undefined) {\n            data = {\n                data: new Blob(msg['buffers'], { type: data['blob'] }),\n            };\n        }\n        // Pass the mpl event to the overridden (by mpl) onmessage function.\n        ws.onmessage(data);\n    });\n    return ws;\n};\n\nmpl.mpl_figure_comm = function (comm, msg) {\n    // This is the function which gets called when the mpl process\n    // starts-up an IPython Comm through the \"matplotlib\" channel.\n\n    var id = msg.content.data.id;\n    // Get hold of the div created by the display call when the Comm\n    // socket was opened in Python.\n    var element = document.getElementById(id);\n    var ws_proxy = comm_websocket_adapter(comm);\n\n    function ondownload(figure, _format) {\n        window.open(figure.canvas.toDataURL());\n    }\n\n    var fig = new mpl.figure(id, ws_proxy, ondownload, element);\n\n    // Call onopen now - mpl needs it, as it is assuming we've passed it a real\n    // web socket which is closed, not our websocket->open comm proxy.\n    ws_proxy.onopen();\n\n    fig.parent_element = element;\n    fig.cell_info = mpl.find_output_cell(\"<div id='\" + id + \"'></div>\");\n    if (!fig.cell_info) {\n        console.error('Failed to find cell for figure', id, fig);\n        return;\n    }\n    fig.cell_info[0].output_area.element.on(\n        'cleared',\n        { fig: fig },\n        fig._remove_fig_handler\n    );\n};\n\nmpl.figure.prototype.handle_close = function (fig, msg) {\n    var width = fig.canvas.width / fig.ratio;\n    fig.cell_info[0].output_area.element.off(\n        'cleared',\n        fig._remove_fig_handler\n    );\n    fig.resizeObserverInstance.unobserve(fig.canvas_div);\n\n    // Update the output cell to use the data from the current canvas.\n    fig.push_to_output();\n    var dataURL = fig.canvas.toDataURL();\n    // Re-enable the keyboard manager in IPython - without this line, in FF,\n    // the notebook keyboard shortcuts fail.\n    IPython.keyboard_manager.enable();\n    fig.parent_element.innerHTML =\n        '<img src=\"' + dataURL + '\" width=\"' + width + '\">';\n    fig.close_ws(fig, msg);\n};\n\nmpl.figure.prototype.close_ws = function (fig, msg) {\n    fig.send_message('closing', msg);\n    // fig.ws.close()\n};\n\nmpl.figure.prototype.push_to_output = function (_remove_interactive) {\n    // Turn the data on the canvas into data in the output cell.\n    var width = this.canvas.width / this.ratio;\n    var dataURL = this.canvas.toDataURL();\n    this.cell_info[1]['text/html'] =\n        '<img src=\"' + dataURL + '\" width=\"' + width + '\">';\n};\n\nmpl.figure.prototype.updated_canvas_event = function () {\n    // Tell IPython that the notebook contents must change.\n    IPython.notebook.set_dirty(true);\n    this.send_message('ack', {});\n    var fig = this;\n    // Wait a second, then push the new image to the DOM so\n    // that it is saved nicely (might be nice to debounce this).\n    setTimeout(function () {\n        fig.push_to_output();\n    }, 1000);\n};\n\nmpl.figure.prototype._init_toolbar = function () {\n    var fig = this;\n\n    var toolbar = document.createElement('div');\n    toolbar.classList = 'btn-toolbar';\n    this.root.appendChild(toolbar);\n\n    function on_click_closure(name) {\n        return function (_event) {\n            return fig.toolbar_button_onclick(name);\n        };\n    }\n\n    function on_mouseover_closure(tooltip) {\n        return function (event) {\n            if (!event.currentTarget.disabled) {\n                return fig.toolbar_button_onmouseover(tooltip);\n            }\n        };\n    }\n\n    fig.buttons = {};\n    var buttonGroup = document.createElement('div');\n    buttonGroup.classList = 'btn-group';\n    var button;\n    for (var toolbar_ind in mpl.toolbar_items) {\n        var name = mpl.toolbar_items[toolbar_ind][0];\n        var tooltip = mpl.toolbar_items[toolbar_ind][1];\n        var image = mpl.toolbar_items[toolbar_ind][2];\n        var method_name = mpl.toolbar_items[toolbar_ind][3];\n\n        if (!name) {\n            /* Instead of a spacer, we start a new button group. */\n            if (buttonGroup.hasChildNodes()) {\n                toolbar.appendChild(buttonGroup);\n            }\n            buttonGroup = document.createElement('div');\n            buttonGroup.classList = 'btn-group';\n            continue;\n        }\n\n        button = fig.buttons[name] = document.createElement('button');\n        button.classList = 'btn btn-default';\n        button.href = '#';\n        button.title = name;\n        button.innerHTML = '<i class=\"fa ' + image + ' fa-lg\"></i>';\n        button.addEventListener('click', on_click_closure(method_name));\n        button.addEventListener('mouseover', on_mouseover_closure(tooltip));\n        buttonGroup.appendChild(button);\n    }\n\n    if (buttonGroup.hasChildNodes()) {\n        toolbar.appendChild(buttonGroup);\n    }\n\n    // Add the status bar.\n    var status_bar = document.createElement('span');\n    status_bar.classList = 'mpl-message pull-right';\n    toolbar.appendChild(status_bar);\n    this.message = status_bar;\n\n    // Add the close button to the window.\n    var buttongrp = document.createElement('div');\n    buttongrp.classList = 'btn-group inline pull-right';\n    button = document.createElement('button');\n    button.classList = 'btn btn-mini btn-primary';\n    button.href = '#';\n    button.title = 'Stop Interaction';\n    button.innerHTML = '<i class=\"fa fa-power-off icon-remove icon-large\"></i>';\n    button.addEventListener('click', function (_evt) {\n        fig.handle_close(fig, {});\n    });\n    button.addEventListener(\n        'mouseover',\n        on_mouseover_closure('Stop Interaction')\n    );\n    buttongrp.appendChild(button);\n    var titlebar = this.root.querySelector('.ui-dialog-titlebar');\n    titlebar.insertBefore(buttongrp, titlebar.firstChild);\n};\n\nmpl.figure.prototype._remove_fig_handler = function (event) {\n    var fig = event.data.fig;\n    if (event.target !== this) {\n        // Ignore bubbled events from children.\n        return;\n    }\n    fig.close_ws(fig, {});\n};\n\nmpl.figure.prototype._root_extra_style = function (el) {\n    el.style.boxSizing = 'content-box'; // override notebook setting of border-box.\n};\n\nmpl.figure.prototype._canvas_extra_style = function (el) {\n    // this is important to make the div 'focusable\n    el.setAttribute('tabindex', 0);\n    // reach out to IPython and tell the keyboard manager to turn it's self\n    // off when our div gets focus\n\n    // location in version 3\n    if (IPython.notebook.keyboard_manager) {\n        IPython.notebook.keyboard_manager.register_events(el);\n    } else {\n        // location in version 2\n        IPython.keyboard_manager.register_events(el);\n    }\n};\n\nmpl.figure.prototype._key_event_extra = function (event, _name) {\n    // Check for shift+enter\n    if (event.shiftKey && event.which === 13) {\n        this.canvas_div.blur();\n        // select the cell after this one\n        var index = IPython.notebook.find_cell_index(this.cell_info[0]);\n        IPython.notebook.select(index + 1);\n    }\n};\n\nmpl.figure.prototype.handle_save = function (fig, _msg) {\n    fig.ondownload(fig, null);\n};\n\nmpl.find_output_cell = function (html_output) {\n    // Return the cell and output element which can be found *uniquely* in the notebook.\n    // Note - this is a bit hacky, but it is done because the \"notebook_saving.Notebook\"\n    // IPython event is triggered only after the cells have been serialised, which for\n    // our purposes (turning an active figure into a static one), is too late.\n    var cells = IPython.notebook.get_cells();\n    var ncells = cells.length;\n    for (var i = 0; i < ncells; i++) {\n        var cell = cells[i];\n        if (cell.cell_type === 'code') {\n            for (var j = 0; j < cell.output_area.outputs.length; j++) {\n                var data = cell.output_area.outputs[j];\n                if (data.data) {\n                    // IPython >= 3 moved mimebundle to data attribute of output\n                    data = data.data;\n                }\n                if (data['text/html'] === html_output) {\n                    return [cell, data, j];\n                }\n            }\n        }\n    }\n};\n\n// Register the function which deals with the matplotlib target/channel.\n// The kernel may be null if the page has been refreshed.\nif (IPython.notebook.kernel !== null) {\n    IPython.notebook.kernel.comm_manager.register_target(\n        'matplotlib',\n        mpl.mpl_figure_comm\n    );\n}\n",
      "text/plain": [
       "<IPython.core.display.Javascript object>"
      ]
     },
     "metadata": {},
     "output_type": "display_data"
    },
    {
     "data": {
      "text/html": [
       "<div id='24d06483-461c-4482-93c3-fd683ba78dea'></div>"
      ],
      "text/plain": [
       "<IPython.core.display.HTML object>"
      ]
     },
     "metadata": {},
     "output_type": "display_data"
    },
    {
     "ename": "KeyError",
     "evalue": "'emoji'",
     "output_type": "error",
     "traceback": [
      "\u001b[0;31m---------------------------------------------------------------------------\u001b[0m",
      "\u001b[0;31mKeyError\u001b[0m                                  Traceback (most recent call last)",
      "Cell \u001b[0;32mIn[376], line 18\u001b[0m\n\u001b[1;32m     15\u001b[0m     y_offset \u001b[38;5;241m=\u001b[39m \u001b[38;5;241m0.15\u001b[39m \u001b[38;5;28;01mif\u001b[39;00m row[\u001b[38;5;124m\"\u001b[39m\u001b[38;5;124mSpeaker\u001b[39m\u001b[38;5;124m\"\u001b[39m] \u001b[38;5;241m==\u001b[39m \u001b[38;5;124m\"\u001b[39m\u001b[38;5;124mCustomer\u001b[39m\u001b[38;5;124m\"\u001b[39m \u001b[38;5;28;01melse\u001b[39;00m \u001b[38;5;241m-\u001b[39m\u001b[38;5;241m0.25\u001b[39m\n\u001b[1;32m     16\u001b[0m     va \u001b[38;5;241m=\u001b[39m \u001b[38;5;124m\"\u001b[39m\u001b[38;5;124mbottom\u001b[39m\u001b[38;5;124m\"\u001b[39m \u001b[38;5;28;01mif\u001b[39;00m row[\u001b[38;5;124m\"\u001b[39m\u001b[38;5;124mSpeaker\u001b[39m\u001b[38;5;124m\"\u001b[39m] \u001b[38;5;241m==\u001b[39m \u001b[38;5;124m\"\u001b[39m\u001b[38;5;124mCustomer\u001b[39m\u001b[38;5;124m\"\u001b[39m \u001b[38;5;28;01melse\u001b[39;00m \u001b[38;5;124m\"\u001b[39m\u001b[38;5;124mtop\u001b[39m\u001b[38;5;124m\"\u001b[39m\n\u001b[1;32m     17\u001b[0m     plt\u001b[38;5;241m.\u001b[39mtext(row[\u001b[38;5;124m\"\u001b[39m\u001b[38;5;124mTime\u001b[39m\u001b[38;5;124m\"\u001b[39m], row[\u001b[38;5;124m\"\u001b[39m\u001b[38;5;124mSentiment Score\u001b[39m\u001b[38;5;124m\"\u001b[39m] \u001b[38;5;241m+\u001b[39m y_offset,\n\u001b[0;32m---> 18\u001b[0m              \u001b[43mstyle\u001b[49m\u001b[43m[\u001b[49m\u001b[38;5;124;43m\"\u001b[39;49m\u001b[38;5;124;43memoji\u001b[39;49m\u001b[38;5;124;43m\"\u001b[39;49m\u001b[43m]\u001b[49m, fontsize\u001b[38;5;241m=\u001b[39m\u001b[38;5;241m15\u001b[39m, ha\u001b[38;5;241m=\u001b[39m\u001b[38;5;124m\"\u001b[39m\u001b[38;5;124mcenter\u001b[39m\u001b[38;5;124m\"\u001b[39m, va\u001b[38;5;241m=\u001b[39mva, color\u001b[38;5;241m=\u001b[39mstyle[\u001b[38;5;124m\"\u001b[39m\u001b[38;5;124mcolor\u001b[39m\u001b[38;5;124m\"\u001b[39m])\n\u001b[1;32m     20\u001b[0m \u001b[38;5;28;01mif\u001b[39;00m \u001b[38;5;28mlen\u001b[39m(speaker_df) \u001b[38;5;241m>\u001b[39m\u001b[38;5;241m=\u001b[39m \u001b[38;5;241m3\u001b[39m:\n\u001b[1;32m     21\u001b[0m     z \u001b[38;5;241m=\u001b[39m np\u001b[38;5;241m.\u001b[39mpolyfit(speaker_df[\u001b[38;5;124m\"\u001b[39m\u001b[38;5;124mTime\u001b[39m\u001b[38;5;124m\"\u001b[39m], speaker_df[\u001b[38;5;124m\"\u001b[39m\u001b[38;5;124mSentiment Score\u001b[39m\u001b[38;5;124m\"\u001b[39m], \u001b[38;5;241m2\u001b[39m)\n",
      "\u001b[0;31mKeyError\u001b[0m: 'emoji'"
     ]
    }
   ],
   "source": [
    "plt.figure(figsize=(18, 6))\n",
    "\n",
    "for speaker, color in speaker_colors.items():\n",
    "    speaker_df = df[df[\"Speaker\"] == speaker].dropna(subset=[\"Time\", \"Sentiment Score\"])\n",
    "\n",
    "    speaker_df = speaker_df.copy()\n",
    "    speaker_df[\"Time\"] = pd.to_numeric(speaker_df[\"Time\"], errors=\"coerce\")\n",
    "    speaker_df[\"Sentiment Score\"] = pd.to_numeric(speaker_df[\"Sentiment Score\"], errors=\"coerce\")\n",
    "    speaker_df.dropna(subset=[\"Time\", \"Sentiment Score\"], inplace=True)\n",
    "\n",
    "    plt.scatter(speaker_df[\"Time\"], speaker_df[\"Sentiment Score\"], color=color, alpha=0.6, label=f\"{speaker} Points\")\n",
    "\n",
    "    for _, row in speaker_df.iterrows():\n",
    "        style = emotion_styles.get(row[\"Emotion\"], {\"emoji\": \"❓\", \"color\": \"black\"})\n",
    "        y_offset = 0.15 if row[\"Speaker\"] == \"Customer\" else -0.25\n",
    "        va = \"bottom\" if row[\"Speaker\"] == \"Customer\" else \"top\"\n",
    "        plt.text(row[\"Time\"], row[\"Sentiment Score\"] + y_offset,\n",
    "                 style[\"emoji\"], fontsize=15, ha=\"center\", va=va, color=style[\"color\"])\n",
    "\n",
    "    if len(speaker_df) >= 3:\n",
    "        z = np.polyfit(speaker_df[\"Time\"], speaker_df[\"Sentiment Score\"], 2)\n",
    "        p = np.poly1d(z)\n",
    "        time_range = np.linspace(speaker_df[\"Time\"].min(), speaker_df[\"Time\"].max(), 200)\n",
    "        plt.plot(time_range, p(time_range), color=color, linewidth=2, label=f\"{speaker} Trend\")\n",
    "\n",
    "plt.axhline(y=0, color=\"gray\", linestyle=\"dashed\", linewidth=2, label=\"Neutral Baseline\")\n",
    "\n",
    "plt.xlabel(\"Recording Time (s)\")\n",
    "plt.ylabel(\"Sentiment Score (-1: Negative, 0: Neutral, 1: Positive)\")\n",
    "plt.title(\"Sentiment Fluctuation Over Time by Speaker - Loan\")\n",
    "plt.ylim(-1.5, 1.5)\n",
    "plt.grid()\n",
    "\n",
    "first_legend = plt.legend(loc=\"lower left\", title=\"Speakers & Trends\")\n",
    "plt.gca().add_artist(first_legend)\n",
    "\n",
    "emoji_legend_elements = [\n",
    "    Line2D([0], [0],\n",
    "           marker='o',\n",
    "           color='none',\n",
    "           label=f\"{v['emoji']} {k.capitalize()}\",\n",
    "           markerfacecolor=v[\"color\"],\n",
    "           markersize=12,\n",
    "           linestyle='None')\n",
    "    for k, v in emotion_styles.items()\n",
    "]\n",
    "plt.legend(handles=emoji_legend_elements, loc=\"lower right\", title=\"Emotions\")\n",
    "\n",
    "plt.tight_layout()\n",
    "plt.savefig(\"sentiment_over_time_by_speaker.png\", bbox_inches='tight')\n",
    "plt.close()\n",
    "\n",
    "Image(\"sentiment_over_time_by_speaker.png\")"
   ]
  },
  {
   "cell_type": "code",
   "execution_count": null,
   "metadata": {},
   "outputs": [],
   "source": []
  }
 ],
 "metadata": {
  "environment": {
   "kernel": "conda-base-py",
   "name": "workbench-notebooks.m130",
   "type": "gcloud",
   "uri": "us-docker.pkg.dev/deeplearning-platform-release/gcr.io/workbench-notebooks:m130"
  },
  "kernelspec": {
   "display_name": "Python 3 (ipykernel) (Local)",
   "language": "python",
   "name": "conda-base-py"
  },
  "language_info": {
   "codemirror_mode": {
    "name": "ipython",
    "version": 3
   },
   "file_extension": ".py",
   "mimetype": "text/x-python",
   "name": "python",
   "nbconvert_exporter": "python",
   "pygments_lexer": "ipython3",
   "version": "3.10.18"
  }
 },
 "nbformat": 4,
 "nbformat_minor": 4
}
